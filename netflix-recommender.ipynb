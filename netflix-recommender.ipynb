{
 "cells": [
  {
   "cell_type": "code",
   "execution_count": 1,
   "metadata": {},
   "outputs": [],
   "source": [
    "import pandas as pd\n",
    "import tqdm\n",
    "from tqdm import tqdm\n",
    "\n",
    "import spacy\n",
    "nlp = spacy.load(\"en_core_web_lg\")"
   ]
  },
  {
   "cell_type": "code",
   "execution_count": 94,
   "metadata": {},
   "outputs": [
    {
     "data": {
      "text/html": [
       "<div>\n",
       "<style scoped>\n",
       "    .dataframe tbody tr th:only-of-type {\n",
       "        vertical-align: middle;\n",
       "    }\n",
       "\n",
       "    .dataframe tbody tr th {\n",
       "        vertical-align: top;\n",
       "    }\n",
       "\n",
       "    .dataframe thead th {\n",
       "        text-align: right;\n",
       "    }\n",
       "</style>\n",
       "<table border=\"1\" class=\"dataframe\">\n",
       "  <thead>\n",
       "    <tr style=\"text-align: right;\">\n",
       "      <th></th>\n",
       "      <th>show_id</th>\n",
       "      <th>type</th>\n",
       "      <th>title</th>\n",
       "      <th>director</th>\n",
       "      <th>cast</th>\n",
       "      <th>country</th>\n",
       "      <th>date_added</th>\n",
       "      <th>release_year</th>\n",
       "      <th>rating</th>\n",
       "      <th>duration</th>\n",
       "      <th>listed_in</th>\n",
       "      <th>description</th>\n",
       "    </tr>\n",
       "  </thead>\n",
       "  <tbody>\n",
       "    <tr>\n",
       "      <th>0</th>\n",
       "      <td>81145628</td>\n",
       "      <td>Movie</td>\n",
       "      <td>Norm of the North: King Sized Adventure</td>\n",
       "      <td>Richard Finn, Tim Maltby</td>\n",
       "      <td>Alan Marriott, Andrew Toth, Brian Dobson, Cole...</td>\n",
       "      <td>United States, India, South Korea, China</td>\n",
       "      <td>September 9, 2019</td>\n",
       "      <td>2019</td>\n",
       "      <td>TV-PG</td>\n",
       "      <td>90 min</td>\n",
       "      <td>Children &amp; Family Movies, Comedies</td>\n",
       "      <td>Before planning an awesome wedding for his gra...</td>\n",
       "    </tr>\n",
       "    <tr>\n",
       "      <th>1</th>\n",
       "      <td>80117401</td>\n",
       "      <td>Movie</td>\n",
       "      <td>Jandino: Whatever it Takes</td>\n",
       "      <td>NaN</td>\n",
       "      <td>Jandino Asporaat</td>\n",
       "      <td>United Kingdom</td>\n",
       "      <td>September 9, 2016</td>\n",
       "      <td>2016</td>\n",
       "      <td>TV-MA</td>\n",
       "      <td>94 min</td>\n",
       "      <td>Stand-Up Comedy</td>\n",
       "      <td>Jandino Asporaat riffs on the challenges of ra...</td>\n",
       "    </tr>\n",
       "    <tr>\n",
       "      <th>2</th>\n",
       "      <td>70234439</td>\n",
       "      <td>TV Show</td>\n",
       "      <td>Transformers Prime</td>\n",
       "      <td>NaN</td>\n",
       "      <td>Peter Cullen, Sumalee Montano, Frank Welker, J...</td>\n",
       "      <td>United States</td>\n",
       "      <td>September 8, 2018</td>\n",
       "      <td>2013</td>\n",
       "      <td>TV-Y7-FV</td>\n",
       "      <td>1 Season</td>\n",
       "      <td>Kids' TV</td>\n",
       "      <td>With the help of three human allies, the Autob...</td>\n",
       "    </tr>\n",
       "    <tr>\n",
       "      <th>3</th>\n",
       "      <td>80058654</td>\n",
       "      <td>TV Show</td>\n",
       "      <td>Transformers: Robots in Disguise</td>\n",
       "      <td>NaN</td>\n",
       "      <td>Will Friedle, Darren Criss, Constance Zimmer, ...</td>\n",
       "      <td>United States</td>\n",
       "      <td>September 8, 2018</td>\n",
       "      <td>2016</td>\n",
       "      <td>TV-Y7</td>\n",
       "      <td>1 Season</td>\n",
       "      <td>Kids' TV</td>\n",
       "      <td>When a prison ship crash unleashes hundreds of...</td>\n",
       "    </tr>\n",
       "    <tr>\n",
       "      <th>4</th>\n",
       "      <td>80125979</td>\n",
       "      <td>Movie</td>\n",
       "      <td>#realityhigh</td>\n",
       "      <td>Fernando Lebrija</td>\n",
       "      <td>Nesta Cooper, Kate Walsh, John Michael Higgins...</td>\n",
       "      <td>United States</td>\n",
       "      <td>September 8, 2017</td>\n",
       "      <td>2017</td>\n",
       "      <td>TV-14</td>\n",
       "      <td>99 min</td>\n",
       "      <td>Comedies</td>\n",
       "      <td>When nerdy high schooler Dani finally attracts...</td>\n",
       "    </tr>\n",
       "  </tbody>\n",
       "</table>\n",
       "</div>"
      ],
      "text/plain": [
       "    show_id     type                                    title  \\\n",
       "0  81145628    Movie  Norm of the North: King Sized Adventure   \n",
       "1  80117401    Movie               Jandino: Whatever it Takes   \n",
       "2  70234439  TV Show                       Transformers Prime   \n",
       "3  80058654  TV Show         Transformers: Robots in Disguise   \n",
       "4  80125979    Movie                             #realityhigh   \n",
       "\n",
       "                   director  \\\n",
       "0  Richard Finn, Tim Maltby   \n",
       "1                       NaN   \n",
       "2                       NaN   \n",
       "3                       NaN   \n",
       "4          Fernando Lebrija   \n",
       "\n",
       "                                                cast  \\\n",
       "0  Alan Marriott, Andrew Toth, Brian Dobson, Cole...   \n",
       "1                                   Jandino Asporaat   \n",
       "2  Peter Cullen, Sumalee Montano, Frank Welker, J...   \n",
       "3  Will Friedle, Darren Criss, Constance Zimmer, ...   \n",
       "4  Nesta Cooper, Kate Walsh, John Michael Higgins...   \n",
       "\n",
       "                                    country         date_added  release_year  \\\n",
       "0  United States, India, South Korea, China  September 9, 2019          2019   \n",
       "1                            United Kingdom  September 9, 2016          2016   \n",
       "2                             United States  September 8, 2018          2013   \n",
       "3                             United States  September 8, 2018          2016   \n",
       "4                             United States  September 8, 2017          2017   \n",
       "\n",
       "     rating  duration                           listed_in  \\\n",
       "0     TV-PG    90 min  Children & Family Movies, Comedies   \n",
       "1     TV-MA    94 min                     Stand-Up Comedy   \n",
       "2  TV-Y7-FV  1 Season                            Kids' TV   \n",
       "3     TV-Y7  1 Season                            Kids' TV   \n",
       "4     TV-14    99 min                            Comedies   \n",
       "\n",
       "                                         description  \n",
       "0  Before planning an awesome wedding for his gra...  \n",
       "1  Jandino Asporaat riffs on the challenges of ra...  \n",
       "2  With the help of three human allies, the Autob...  \n",
       "3  When a prison ship crash unleashes hundreds of...  \n",
       "4  When nerdy high schooler Dani finally attracts...  "
      ]
     },
     "execution_count": 94,
     "metadata": {},
     "output_type": "execute_result"
    }
   ],
   "source": [
    "df = pd.read_csv('netflix_titles.csv')\n",
    "df.head()"
   ]
  },
  {
   "cell_type": "code",
   "execution_count": 95,
   "metadata": {},
   "outputs": [
    {
     "data": {
      "text/plain": [
       "(6234, 12)"
      ]
     },
     "execution_count": 95,
     "metadata": {},
     "output_type": "execute_result"
    }
   ],
   "source": [
    "df.shape"
   ]
  },
  {
   "cell_type": "code",
   "execution_count": 96,
   "metadata": {},
   "outputs": [
    {
     "data": {
      "text/plain": [
       "Movie      4265\n",
       "TV Show    1969\n",
       "Name: type, dtype: int64"
      ]
     },
     "execution_count": 96,
     "metadata": {},
     "output_type": "execute_result"
    }
   ],
   "source": [
    "df['type'].value_counts()"
   ]
  },
  {
   "cell_type": "code",
   "execution_count": 97,
   "metadata": {},
   "outputs": [
    {
     "data": {
      "text/plain": [
       "United States                                                     2032\n",
       "India                                                              777\n",
       "United Kingdom                                                     348\n",
       "Japan                                                              176\n",
       "Canada                                                             141\n",
       "                                                                  ... \n",
       "United Kingdom, Namibia, South Africa, Zimbabwe, United States       1\n",
       "India, Japan                                                         1\n",
       "United States, Venezuela                                             1\n",
       "Italy, United States, Argentina                                      1\n",
       "Norway, Sweden                                                       1\n",
       "Name: country, Length: 554, dtype: int64"
      ]
     },
     "execution_count": 97,
     "metadata": {},
     "output_type": "execute_result"
    }
   ],
   "source": [
    "df['country'].value_counts()"
   ]
  },
  {
   "cell_type": "code",
   "execution_count": 101,
   "metadata": {},
   "outputs": [
    {
     "data": {
      "text/plain": [
       "(1482, 12)"
      ]
     },
     "execution_count": 101,
     "metadata": {},
     "output_type": "execute_result"
    }
   ],
   "source": [
    "df = df[(df['type'] == 'Movie') & (df['country'] == 'United States')]\n",
    "df = df.reset_index(drop=True)\n",
    "df.shape"
   ]
  },
  {
   "cell_type": "code",
   "execution_count": 102,
   "metadata": {},
   "outputs": [
    {
     "data": {
      "text/plain": [
       "show_id           0\n",
       "type              0\n",
       "title             0\n",
       "director         40\n",
       "cast            145\n",
       "country           0\n",
       "date_added        0\n",
       "release_year      0\n",
       "rating            3\n",
       "duration          0\n",
       "listed_in         0\n",
       "description       0\n",
       "dtype: int64"
      ]
     },
     "execution_count": 102,
     "metadata": {},
     "output_type": "execute_result"
    }
   ],
   "source": [
    "df.isnull().sum()"
   ]
  },
  {
   "cell_type": "code",
   "execution_count": 103,
   "metadata": {},
   "outputs": [
    {
     "data": {
      "text/html": [
       "<div>\n",
       "<style scoped>\n",
       "    .dataframe tbody tr th:only-of-type {\n",
       "        vertical-align: middle;\n",
       "    }\n",
       "\n",
       "    .dataframe tbody tr th {\n",
       "        vertical-align: top;\n",
       "    }\n",
       "\n",
       "    .dataframe thead th {\n",
       "        text-align: right;\n",
       "    }\n",
       "</style>\n",
       "<table border=\"1\" class=\"dataframe\">\n",
       "  <thead>\n",
       "    <tr style=\"text-align: right;\">\n",
       "      <th></th>\n",
       "      <th>show_id</th>\n",
       "      <th>type</th>\n",
       "      <th>title</th>\n",
       "      <th>director</th>\n",
       "      <th>cast</th>\n",
       "      <th>country</th>\n",
       "      <th>date_added</th>\n",
       "      <th>release_year</th>\n",
       "      <th>rating</th>\n",
       "      <th>duration</th>\n",
       "      <th>listed_in</th>\n",
       "      <th>description</th>\n",
       "    </tr>\n",
       "  </thead>\n",
       "  <tbody>\n",
       "    <tr>\n",
       "      <th>0</th>\n",
       "      <td>80125979</td>\n",
       "      <td>Movie</td>\n",
       "      <td>#realityhigh</td>\n",
       "      <td>Fernando Lebrija</td>\n",
       "      <td>Nesta Cooper, Kate Walsh, John Michael Higgins...</td>\n",
       "      <td>United States</td>\n",
       "      <td>September 8, 2017</td>\n",
       "      <td>2017</td>\n",
       "      <td>TV-14</td>\n",
       "      <td>99 min</td>\n",
       "      <td>Comedies</td>\n",
       "      <td>When nerdy high schooler Dani finally attracts...</td>\n",
       "    </tr>\n",
       "    <tr>\n",
       "      <th>1</th>\n",
       "      <td>80060297</td>\n",
       "      <td>Movie</td>\n",
       "      <td>Manhattan Romance</td>\n",
       "      <td>Tom O'Brien</td>\n",
       "      <td>Tom O'Brien, Katherine Waterston, Caitlin Fitz...</td>\n",
       "      <td>United States</td>\n",
       "      <td>September 8, 2017</td>\n",
       "      <td>2014</td>\n",
       "      <td>TV-14</td>\n",
       "      <td>98 min</td>\n",
       "      <td>Comedies, Independent Movies, Romantic Movies</td>\n",
       "      <td>A filmmaker working on a documentary about lov...</td>\n",
       "    </tr>\n",
       "    <tr>\n",
       "      <th>2</th>\n",
       "      <td>70304988</td>\n",
       "      <td>Movie</td>\n",
       "      <td>Stonehearst Asylum</td>\n",
       "      <td>Brad Anderson</td>\n",
       "      <td>Kate Beckinsale, Jim Sturgess, David Thewlis, ...</td>\n",
       "      <td>United States</td>\n",
       "      <td>September 8, 2017</td>\n",
       "      <td>2014</td>\n",
       "      <td>PG-13</td>\n",
       "      <td>113 min</td>\n",
       "      <td>Horror Movies, Thrillers</td>\n",
       "      <td>In 1899, a young doctor arrives at an asylum f...</td>\n",
       "    </tr>\n",
       "    <tr>\n",
       "      <th>3</th>\n",
       "      <td>80057700</td>\n",
       "      <td>Movie</td>\n",
       "      <td>The Runner</td>\n",
       "      <td>Austin Stark</td>\n",
       "      <td>Nicolas Cage, Sarah Paulson, Connie Nielsen, W...</td>\n",
       "      <td>United States</td>\n",
       "      <td>September 8, 2017</td>\n",
       "      <td>2015</td>\n",
       "      <td>R</td>\n",
       "      <td>90 min</td>\n",
       "      <td>Dramas, Independent Movies</td>\n",
       "      <td>A New Orleans politician finds his idealistic ...</td>\n",
       "    </tr>\n",
       "    <tr>\n",
       "      <th>4</th>\n",
       "      <td>80045922</td>\n",
       "      <td>Movie</td>\n",
       "      <td>6 Years</td>\n",
       "      <td>Hannah Fidell</td>\n",
       "      <td>Taissa Farmiga, Ben Rosenfield, Lindsay Burdge...</td>\n",
       "      <td>United States</td>\n",
       "      <td>September 8, 2015</td>\n",
       "      <td>2015</td>\n",
       "      <td>NR</td>\n",
       "      <td>80 min</td>\n",
       "      <td>Dramas, Independent Movies, Romantic Movies</td>\n",
       "      <td>As a volatile young couple who have been toget...</td>\n",
       "    </tr>\n",
       "  </tbody>\n",
       "</table>\n",
       "</div>"
      ],
      "text/plain": [
       "    show_id   type               title          director  \\\n",
       "0  80125979  Movie        #realityhigh  Fernando Lebrija   \n",
       "1  80060297  Movie   Manhattan Romance       Tom O'Brien   \n",
       "2  70304988  Movie  Stonehearst Asylum     Brad Anderson   \n",
       "3  80057700  Movie          The Runner      Austin Stark   \n",
       "4  80045922  Movie             6 Years     Hannah Fidell   \n",
       "\n",
       "                                                cast        country  \\\n",
       "0  Nesta Cooper, Kate Walsh, John Michael Higgins...  United States   \n",
       "1  Tom O'Brien, Katherine Waterston, Caitlin Fitz...  United States   \n",
       "2  Kate Beckinsale, Jim Sturgess, David Thewlis, ...  United States   \n",
       "3  Nicolas Cage, Sarah Paulson, Connie Nielsen, W...  United States   \n",
       "4  Taissa Farmiga, Ben Rosenfield, Lindsay Burdge...  United States   \n",
       "\n",
       "          date_added  release_year rating duration  \\\n",
       "0  September 8, 2017          2017  TV-14   99 min   \n",
       "1  September 8, 2017          2014  TV-14   98 min   \n",
       "2  September 8, 2017          2014  PG-13  113 min   \n",
       "3  September 8, 2017          2015      R   90 min   \n",
       "4  September 8, 2015          2015     NR   80 min   \n",
       "\n",
       "                                       listed_in  \\\n",
       "0                                       Comedies   \n",
       "1  Comedies, Independent Movies, Romantic Movies   \n",
       "2                       Horror Movies, Thrillers   \n",
       "3                     Dramas, Independent Movies   \n",
       "4    Dramas, Independent Movies, Romantic Movies   \n",
       "\n",
       "                                         description  \n",
       "0  When nerdy high schooler Dani finally attracts...  \n",
       "1  A filmmaker working on a documentary about lov...  \n",
       "2  In 1899, a young doctor arrives at an asylum f...  \n",
       "3  A New Orleans politician finds his idealistic ...  \n",
       "4  As a volatile young couple who have been toget...  "
      ]
     },
     "execution_count": 103,
     "metadata": {},
     "output_type": "execute_result"
    }
   ],
   "source": [
    "df.head()"
   ]
  },
  {
   "cell_type": "markdown",
   "metadata": {},
   "source": [
    "### Testing out Spacy on 1 Review"
   ]
  },
  {
   "cell_type": "code",
   "execution_count": null,
   "metadata": {
    "scrolled": true
   },
   "outputs": [],
   "source": [
    "df['description'][0]"
   ]
  },
  {
   "cell_type": "code",
   "execution_count": null,
   "metadata": {},
   "outputs": [],
   "source": [
    "doc = nlp(df['description'][0])\n",
    "doc"
   ]
  },
  {
   "cell_type": "code",
   "execution_count": null,
   "metadata": {},
   "outputs": [],
   "source": [
    "doc = [token.lemma_ for token in doc if (token.is_stop == False) and (token.is_punct == False)]\n",
    "doc"
   ]
  },
  {
   "cell_type": "code",
   "execution_count": 75,
   "metadata": {},
   "outputs": [
    {
     "data": {
      "text/plain": [
       "'3'"
      ]
     },
     "execution_count": 75,
     "metadata": {},
     "output_type": "execute_result"
    }
   ],
   "source": [
    "list1 = pd.Series([\" 1\", \"2\", ' 3'])\n",
    "list1 = list1.apply(lambda x:x.strip())\n",
    "list1[2]"
   ]
  },
  {
   "cell_type": "markdown",
   "metadata": {},
   "source": [
    "### Tokenize, Remove Stop words, and Punct"
   ]
  },
  {
   "cell_type": "code",
   "execution_count": 104,
   "metadata": {},
   "outputs": [
    {
     "data": {
      "text/html": [
       "<div>\n",
       "<style scoped>\n",
       "    .dataframe tbody tr th:only-of-type {\n",
       "        vertical-align: middle;\n",
       "    }\n",
       "\n",
       "    .dataframe tbody tr th {\n",
       "        vertical-align: top;\n",
       "    }\n",
       "\n",
       "    .dataframe thead th {\n",
       "        text-align: right;\n",
       "    }\n",
       "</style>\n",
       "<table border=\"1\" class=\"dataframe\">\n",
       "  <thead>\n",
       "    <tr style=\"text-align: right;\">\n",
       "      <th></th>\n",
       "      <th>show_id</th>\n",
       "      <th>type</th>\n",
       "      <th>title</th>\n",
       "      <th>director</th>\n",
       "      <th>cast</th>\n",
       "      <th>country</th>\n",
       "      <th>date_added</th>\n",
       "      <th>release_year</th>\n",
       "      <th>rating</th>\n",
       "      <th>duration</th>\n",
       "      <th>listed_in</th>\n",
       "      <th>description</th>\n",
       "    </tr>\n",
       "  </thead>\n",
       "  <tbody>\n",
       "    <tr>\n",
       "      <th>0</th>\n",
       "      <td>80125979</td>\n",
       "      <td>Movie</td>\n",
       "      <td>#realityhigh</td>\n",
       "      <td>Fernando Lebrija</td>\n",
       "      <td>Nesta Cooper, Kate Walsh, John Michael Higgins...</td>\n",
       "      <td>United States</td>\n",
       "      <td>September 8, 2017</td>\n",
       "      <td>2017</td>\n",
       "      <td>TV-14</td>\n",
       "      <td>99 min</td>\n",
       "      <td>comedies</td>\n",
       "      <td>when nerdy high schooler dani finally attracts...</td>\n",
       "    </tr>\n",
       "    <tr>\n",
       "      <th>1</th>\n",
       "      <td>80060297</td>\n",
       "      <td>Movie</td>\n",
       "      <td>Manhattan Romance</td>\n",
       "      <td>Tom O'Brien</td>\n",
       "      <td>Tom O'Brien, Katherine Waterston, Caitlin Fitz...</td>\n",
       "      <td>United States</td>\n",
       "      <td>September 8, 2017</td>\n",
       "      <td>2014</td>\n",
       "      <td>TV-14</td>\n",
       "      <td>98 min</td>\n",
       "      <td>comedies, independent movies, romantic movies</td>\n",
       "      <td>a filmmaker working on a documentary about lov...</td>\n",
       "    </tr>\n",
       "    <tr>\n",
       "      <th>2</th>\n",
       "      <td>70304988</td>\n",
       "      <td>Movie</td>\n",
       "      <td>Stonehearst Asylum</td>\n",
       "      <td>Brad Anderson</td>\n",
       "      <td>Kate Beckinsale, Jim Sturgess, David Thewlis, ...</td>\n",
       "      <td>United States</td>\n",
       "      <td>September 8, 2017</td>\n",
       "      <td>2014</td>\n",
       "      <td>PG-13</td>\n",
       "      <td>113 min</td>\n",
       "      <td>horror movies, thrillers</td>\n",
       "      <td>in 1899, a young doctor arrives at an asylum f...</td>\n",
       "    </tr>\n",
       "    <tr>\n",
       "      <th>3</th>\n",
       "      <td>80057700</td>\n",
       "      <td>Movie</td>\n",
       "      <td>The Runner</td>\n",
       "      <td>Austin Stark</td>\n",
       "      <td>Nicolas Cage, Sarah Paulson, Connie Nielsen, W...</td>\n",
       "      <td>United States</td>\n",
       "      <td>September 8, 2017</td>\n",
       "      <td>2015</td>\n",
       "      <td>R</td>\n",
       "      <td>90 min</td>\n",
       "      <td>dramas, independent movies</td>\n",
       "      <td>a new orleans politician finds his idealistic ...</td>\n",
       "    </tr>\n",
       "    <tr>\n",
       "      <th>4</th>\n",
       "      <td>80045922</td>\n",
       "      <td>Movie</td>\n",
       "      <td>6 Years</td>\n",
       "      <td>Hannah Fidell</td>\n",
       "      <td>Taissa Farmiga, Ben Rosenfield, Lindsay Burdge...</td>\n",
       "      <td>United States</td>\n",
       "      <td>September 8, 2015</td>\n",
       "      <td>2015</td>\n",
       "      <td>NR</td>\n",
       "      <td>80 min</td>\n",
       "      <td>dramas, independent movies, romantic movies</td>\n",
       "      <td>as a volatile young couple who have been toget...</td>\n",
       "    </tr>\n",
       "  </tbody>\n",
       "</table>\n",
       "</div>"
      ],
      "text/plain": [
       "    show_id   type               title          director  \\\n",
       "0  80125979  Movie        #realityhigh  Fernando Lebrija   \n",
       "1  80060297  Movie   Manhattan Romance       Tom O'Brien   \n",
       "2  70304988  Movie  Stonehearst Asylum     Brad Anderson   \n",
       "3  80057700  Movie          The Runner      Austin Stark   \n",
       "4  80045922  Movie             6 Years     Hannah Fidell   \n",
       "\n",
       "                                                cast        country  \\\n",
       "0  Nesta Cooper, Kate Walsh, John Michael Higgins...  United States   \n",
       "1  Tom O'Brien, Katherine Waterston, Caitlin Fitz...  United States   \n",
       "2  Kate Beckinsale, Jim Sturgess, David Thewlis, ...  United States   \n",
       "3  Nicolas Cage, Sarah Paulson, Connie Nielsen, W...  United States   \n",
       "4  Taissa Farmiga, Ben Rosenfield, Lindsay Burdge...  United States   \n",
       "\n",
       "          date_added  release_year rating duration  \\\n",
       "0  September 8, 2017          2017  TV-14   99 min   \n",
       "1  September 8, 2017          2014  TV-14   98 min   \n",
       "2  September 8, 2017          2014  PG-13  113 min   \n",
       "3  September 8, 2017          2015      R   90 min   \n",
       "4  September 8, 2015          2015     NR   80 min   \n",
       "\n",
       "                                       listed_in  \\\n",
       "0                                       comedies   \n",
       "1  comedies, independent movies, romantic movies   \n",
       "2                       horror movies, thrillers   \n",
       "3                     dramas, independent movies   \n",
       "4    dramas, independent movies, romantic movies   \n",
       "\n",
       "                                         description  \n",
       "0  when nerdy high schooler dani finally attracts...  \n",
       "1  a filmmaker working on a documentary about lov...  \n",
       "2  in 1899, a young doctor arrives at an asylum f...  \n",
       "3  a new orleans politician finds his idealistic ...  \n",
       "4  as a volatile young couple who have been toget...  "
      ]
     },
     "execution_count": 104,
     "metadata": {},
     "output_type": "execute_result"
    }
   ],
   "source": [
    "df['description']=df['description'].apply(lambda x:x.lower())\n",
    "df['listed_in']=df['listed_in'].apply(lambda x:x.lower())\n",
    "\n",
    "df['description']=df['description'].apply(lambda x:x.strip())\n",
    "df['listed_in']=df['listed_in'].apply(lambda x:x.strip())\n",
    "\n",
    "df.head()"
   ]
  },
  {
   "cell_type": "code",
   "execution_count": 105,
   "metadata": {},
   "outputs": [
    {
     "name": "stderr",
     "output_type": "stream",
     "text": [
      "1482it [00:19, 75.17it/s]\n"
     ]
    }
   ],
   "source": [
    "#Extract tokens from reviews using Spacy\n",
    "nlp.Defaults.stop_words |= {\"movie\",\"find\"}\n",
    "tokens = []\n",
    "\n",
    "for index,row in tqdm(df.iterrows()):\n",
    "    description = row['description']\n",
    "    listed_in = row['listed_in']\n",
    "    doc = description + listed_in\n",
    "    doc = nlp(doc)\n",
    "    doc = [token.lemma_ for token in doc if (token.is_stop != True) and (token.is_punct != True)]\n",
    "    tokens.append(doc)"
   ]
  },
  {
   "cell_type": "code",
   "execution_count": 106,
   "metadata": {},
   "outputs": [
    {
     "data": {
      "text/plain": [
       "['nerdy',\n",
       " 'high',\n",
       " 'schooler',\n",
       " 'dani',\n",
       " 'finally',\n",
       " 'attract',\n",
       " 'interest',\n",
       " 'longtime',\n",
       " 'crush',\n",
       " 'land',\n",
       " 'cross',\n",
       " 'hair',\n",
       " 'ex',\n",
       " 'social',\n",
       " 'medium',\n",
       " 'celebrity.comedie']"
      ]
     },
     "execution_count": 106,
     "metadata": {},
     "output_type": "execute_result"
    }
   ],
   "source": [
    "tokens[0]"
   ]
  },
  {
   "cell_type": "code",
   "execution_count": 107,
   "metadata": {},
   "outputs": [
    {
     "data": {
      "text/html": [
       "<div>\n",
       "<style scoped>\n",
       "    .dataframe tbody tr th:only-of-type {\n",
       "        vertical-align: middle;\n",
       "    }\n",
       "\n",
       "    .dataframe tbody tr th {\n",
       "        vertical-align: top;\n",
       "    }\n",
       "\n",
       "    .dataframe thead th {\n",
       "        text-align: right;\n",
       "    }\n",
       "</style>\n",
       "<table border=\"1\" class=\"dataframe\">\n",
       "  <thead>\n",
       "    <tr style=\"text-align: right;\">\n",
       "      <th></th>\n",
       "      <th>show_id</th>\n",
       "      <th>type</th>\n",
       "      <th>title</th>\n",
       "      <th>director</th>\n",
       "      <th>cast</th>\n",
       "      <th>country</th>\n",
       "      <th>date_added</th>\n",
       "      <th>release_year</th>\n",
       "      <th>rating</th>\n",
       "      <th>duration</th>\n",
       "      <th>listed_in</th>\n",
       "      <th>description</th>\n",
       "      <th>tokens</th>\n",
       "    </tr>\n",
       "  </thead>\n",
       "  <tbody>\n",
       "    <tr>\n",
       "      <th>0</th>\n",
       "      <td>80125979</td>\n",
       "      <td>Movie</td>\n",
       "      <td>#realityhigh</td>\n",
       "      <td>Fernando Lebrija</td>\n",
       "      <td>Nesta Cooper, Kate Walsh, John Michael Higgins...</td>\n",
       "      <td>United States</td>\n",
       "      <td>September 8, 2017</td>\n",
       "      <td>2017</td>\n",
       "      <td>TV-14</td>\n",
       "      <td>99 min</td>\n",
       "      <td>comedies</td>\n",
       "      <td>when nerdy high schooler dani finally attracts...</td>\n",
       "      <td>[nerdy, high, schooler, dani, finally, attract...</td>\n",
       "    </tr>\n",
       "    <tr>\n",
       "      <th>1</th>\n",
       "      <td>80060297</td>\n",
       "      <td>Movie</td>\n",
       "      <td>Manhattan Romance</td>\n",
       "      <td>Tom O'Brien</td>\n",
       "      <td>Tom O'Brien, Katherine Waterston, Caitlin Fitz...</td>\n",
       "      <td>United States</td>\n",
       "      <td>September 8, 2017</td>\n",
       "      <td>2014</td>\n",
       "      <td>TV-14</td>\n",
       "      <td>98 min</td>\n",
       "      <td>comedies, independent movies, romantic movies</td>\n",
       "      <td>a filmmaker working on a documentary about lov...</td>\n",
       "      <td>[filmmaker, work, documentary, love, modern, m...</td>\n",
       "    </tr>\n",
       "    <tr>\n",
       "      <th>2</th>\n",
       "      <td>70304988</td>\n",
       "      <td>Movie</td>\n",
       "      <td>Stonehearst Asylum</td>\n",
       "      <td>Brad Anderson</td>\n",
       "      <td>Kate Beckinsale, Jim Sturgess, David Thewlis, ...</td>\n",
       "      <td>United States</td>\n",
       "      <td>September 8, 2017</td>\n",
       "      <td>2014</td>\n",
       "      <td>PG-13</td>\n",
       "      <td>113 min</td>\n",
       "      <td>horror movies, thrillers</td>\n",
       "      <td>in 1899, a young doctor arrives at an asylum f...</td>\n",
       "      <td>[1899, young, doctor, arrive, asylum, apprenti...</td>\n",
       "    </tr>\n",
       "    <tr>\n",
       "      <th>3</th>\n",
       "      <td>80057700</td>\n",
       "      <td>Movie</td>\n",
       "      <td>The Runner</td>\n",
       "      <td>Austin Stark</td>\n",
       "      <td>Nicolas Cage, Sarah Paulson, Connie Nielsen, W...</td>\n",
       "      <td>United States</td>\n",
       "      <td>September 8, 2017</td>\n",
       "      <td>2015</td>\n",
       "      <td>R</td>\n",
       "      <td>90 min</td>\n",
       "      <td>dramas, independent movies</td>\n",
       "      <td>a new orleans politician finds his idealistic ...</td>\n",
       "      <td>[new, orlean, politician, find, idealistic, pl...</td>\n",
       "    </tr>\n",
       "    <tr>\n",
       "      <th>4</th>\n",
       "      <td>80045922</td>\n",
       "      <td>Movie</td>\n",
       "      <td>6 Years</td>\n",
       "      <td>Hannah Fidell</td>\n",
       "      <td>Taissa Farmiga, Ben Rosenfield, Lindsay Burdge...</td>\n",
       "      <td>United States</td>\n",
       "      <td>September 8, 2015</td>\n",
       "      <td>2015</td>\n",
       "      <td>NR</td>\n",
       "      <td>80 min</td>\n",
       "      <td>dramas, independent movies, romantic movies</td>\n",
       "      <td>as a volatile young couple who have been toget...</td>\n",
       "      <td>[volatile, young, couple, year, approach, coll...</td>\n",
       "    </tr>\n",
       "  </tbody>\n",
       "</table>\n",
       "</div>"
      ],
      "text/plain": [
       "    show_id   type               title          director  \\\n",
       "0  80125979  Movie        #realityhigh  Fernando Lebrija   \n",
       "1  80060297  Movie   Manhattan Romance       Tom O'Brien   \n",
       "2  70304988  Movie  Stonehearst Asylum     Brad Anderson   \n",
       "3  80057700  Movie          The Runner      Austin Stark   \n",
       "4  80045922  Movie             6 Years     Hannah Fidell   \n",
       "\n",
       "                                                cast        country  \\\n",
       "0  Nesta Cooper, Kate Walsh, John Michael Higgins...  United States   \n",
       "1  Tom O'Brien, Katherine Waterston, Caitlin Fitz...  United States   \n",
       "2  Kate Beckinsale, Jim Sturgess, David Thewlis, ...  United States   \n",
       "3  Nicolas Cage, Sarah Paulson, Connie Nielsen, W...  United States   \n",
       "4  Taissa Farmiga, Ben Rosenfield, Lindsay Burdge...  United States   \n",
       "\n",
       "          date_added  release_year rating duration  \\\n",
       "0  September 8, 2017          2017  TV-14   99 min   \n",
       "1  September 8, 2017          2014  TV-14   98 min   \n",
       "2  September 8, 2017          2014  PG-13  113 min   \n",
       "3  September 8, 2017          2015      R   90 min   \n",
       "4  September 8, 2015          2015     NR   80 min   \n",
       "\n",
       "                                       listed_in  \\\n",
       "0                                       comedies   \n",
       "1  comedies, independent movies, romantic movies   \n",
       "2                       horror movies, thrillers   \n",
       "3                     dramas, independent movies   \n",
       "4    dramas, independent movies, romantic movies   \n",
       "\n",
       "                                         description  \\\n",
       "0  when nerdy high schooler dani finally attracts...   \n",
       "1  a filmmaker working on a documentary about lov...   \n",
       "2  in 1899, a young doctor arrives at an asylum f...   \n",
       "3  a new orleans politician finds his idealistic ...   \n",
       "4  as a volatile young couple who have been toget...   \n",
       "\n",
       "                                              tokens  \n",
       "0  [nerdy, high, schooler, dani, finally, attract...  \n",
       "1  [filmmaker, work, documentary, love, modern, m...  \n",
       "2  [1899, young, doctor, arrive, asylum, apprenti...  \n",
       "3  [new, orlean, politician, find, idealistic, pl...  \n",
       "4  [volatile, young, couple, year, approach, coll...  "
      ]
     },
     "execution_count": 107,
     "metadata": {},
     "output_type": "execute_result"
    }
   ],
   "source": [
    "df['tokens'] = tokens\n",
    "df.head()"
   ]
  },
  {
   "cell_type": "code",
   "execution_count": 108,
   "metadata": {},
   "outputs": [],
   "source": [
    "# Object from Base Python\n",
    "from collections import Counter\n",
    "\n",
    "# The object `Counter` takes an iterable, but you can instaniate an empty one and update it. \n",
    "word_counts = Counter()"
   ]
  },
  {
   "cell_type": "code",
   "execution_count": 109,
   "metadata": {},
   "outputs": [],
   "source": [
    "def count(docs):\n",
    "\n",
    "        word_counts = Counter()\n",
    "        appears_in = Counter()\n",
    "        \n",
    "        total_docs = len(docs)\n",
    "\n",
    "        for doc in docs:\n",
    "            word_counts.update(doc)\n",
    "            appears_in.update(set(doc))\n",
    "\n",
    "        temp = zip(word_counts.keys(), word_counts.values())\n",
    "        \n",
    "        wc = pd.DataFrame(temp, columns = ['word', 'count'])\n",
    "\n",
    "        wc['rank'] = wc['count'].rank(method='first', ascending=False)\n",
    "        total = wc['count'].sum()\n",
    "\n",
    "        wc['pct_total'] = wc['count'].apply(lambda x: x / total)\n",
    "        \n",
    "        wc = wc.sort_values(by='rank')\n",
    "        wc['cul_pct_total'] = wc['pct_total'].cumsum()\n",
    "\n",
    "        t2 = zip(appears_in.keys(), appears_in.values())\n",
    "        ac = pd.DataFrame(t2, columns=['word', 'appears_in'])\n",
    "        wc = ac.merge(wc, on='word')\n",
    "\n",
    "        wc['appears_in_pct'] = wc['appears_in'].apply(lambda x: x / total_docs)\n",
    "        \n",
    "        return wc.sort_values(by='rank')"
   ]
  },
  {
   "cell_type": "code",
   "execution_count": 110,
   "metadata": {},
   "outputs": [],
   "source": [
    "wc = count(df['tokens'])"
   ]
  },
  {
   "cell_type": "code",
   "execution_count": 111,
   "metadata": {},
   "outputs": [
    {
     "data": {
      "image/png": "[encoded data removed]",
      "text/plain": [
       "<Figure size 432x288 with 1 Axes>"
      ]
     },
     "metadata": {
      "needs_background": "light"
     },
     "output_type": "display_data"
    }
   ],
   "source": [
    "import squarify\n",
    "import matplotlib.pyplot as plt\n",
    "import seaborn as sns\n",
    "\n",
    "wc_top20 = wc[wc['rank'] <= 20]\n",
    "\n",
    "squarify.plot(sizes=wc_top20['pct_total'], label=wc_top20['word'], alpha=.8 )\n",
    "plt.axis('off')\n",
    "plt.show()"
   ]
  },
  {
   "cell_type": "markdown",
   "metadata": {},
   "source": [
    "### Vectorize Tokens (TFIDF)"
   ]
  },
  {
   "cell_type": "code",
   "execution_count": 114,
   "metadata": {},
   "outputs": [
    {
     "data": {
      "text/html": [
       "<div>\n",
       "<style scoped>\n",
       "    .dataframe tbody tr th:only-of-type {\n",
       "        vertical-align: middle;\n",
       "    }\n",
       "\n",
       "    .dataframe tbody tr th {\n",
       "        vertical-align: top;\n",
       "    }\n",
       "\n",
       "    .dataframe thead th {\n",
       "        text-align: right;\n",
       "    }\n",
       "</style>\n",
       "<table border=\"1\" class=\"dataframe\">\n",
       "  <thead>\n",
       "    <tr style=\"text-align: right;\">\n",
       "      <th></th>\n",
       "      <th>000</th>\n",
       "      <th>000 year</th>\n",
       "      <th>10</th>\n",
       "      <th>10 year</th>\n",
       "      <th>100</th>\n",
       "      <th>11</th>\n",
       "      <th>11 year</th>\n",
       "      <th>12</th>\n",
       "      <th>12 year</th>\n",
       "      <th>13</th>\n",
       "      <th>...</th>\n",
       "      <th>youth</th>\n",
       "      <th>youtube</th>\n",
       "      <th>youtube sensation</th>\n",
       "      <th>yuppie</th>\n",
       "      <th>zach</th>\n",
       "      <th>zach galifianakis</th>\n",
       "      <th>zack</th>\n",
       "      <th>zion</th>\n",
       "      <th>zombie</th>\n",
       "      <th>zone</th>\n",
       "    </tr>\n",
       "  </thead>\n",
       "  <tbody>\n",
       "    <tr>\n",
       "      <th>0</th>\n",
       "      <td>0.0</td>\n",
       "      <td>0.0</td>\n",
       "      <td>0.0</td>\n",
       "      <td>0.0</td>\n",
       "      <td>0.0</td>\n",
       "      <td>0.0</td>\n",
       "      <td>0.0</td>\n",
       "      <td>0.0</td>\n",
       "      <td>0.0</td>\n",
       "      <td>0.0</td>\n",
       "      <td>...</td>\n",
       "      <td>0.0</td>\n",
       "      <td>0.0</td>\n",
       "      <td>0.0</td>\n",
       "      <td>0.0</td>\n",
       "      <td>0.0</td>\n",
       "      <td>0.0</td>\n",
       "      <td>0.0</td>\n",
       "      <td>0.0</td>\n",
       "      <td>0.0</td>\n",
       "      <td>0.0</td>\n",
       "    </tr>\n",
       "    <tr>\n",
       "      <th>1</th>\n",
       "      <td>0.0</td>\n",
       "      <td>0.0</td>\n",
       "      <td>0.0</td>\n",
       "      <td>0.0</td>\n",
       "      <td>0.0</td>\n",
       "      <td>0.0</td>\n",
       "      <td>0.0</td>\n",
       "      <td>0.0</td>\n",
       "      <td>0.0</td>\n",
       "      <td>0.0</td>\n",
       "      <td>...</td>\n",
       "      <td>0.0</td>\n",
       "      <td>0.0</td>\n",
       "      <td>0.0</td>\n",
       "      <td>0.0</td>\n",
       "      <td>0.0</td>\n",
       "      <td>0.0</td>\n",
       "      <td>0.0</td>\n",
       "      <td>0.0</td>\n",
       "      <td>0.0</td>\n",
       "      <td>0.0</td>\n",
       "    </tr>\n",
       "    <tr>\n",
       "      <th>2</th>\n",
       "      <td>0.0</td>\n",
       "      <td>0.0</td>\n",
       "      <td>0.0</td>\n",
       "      <td>0.0</td>\n",
       "      <td>0.0</td>\n",
       "      <td>0.0</td>\n",
       "      <td>0.0</td>\n",
       "      <td>0.0</td>\n",
       "      <td>0.0</td>\n",
       "      <td>0.0</td>\n",
       "      <td>...</td>\n",
       "      <td>0.0</td>\n",
       "      <td>0.0</td>\n",
       "      <td>0.0</td>\n",
       "      <td>0.0</td>\n",
       "      <td>0.0</td>\n",
       "      <td>0.0</td>\n",
       "      <td>0.0</td>\n",
       "      <td>0.0</td>\n",
       "      <td>0.0</td>\n",
       "      <td>0.0</td>\n",
       "    </tr>\n",
       "    <tr>\n",
       "      <th>3</th>\n",
       "      <td>0.0</td>\n",
       "      <td>0.0</td>\n",
       "      <td>0.0</td>\n",
       "      <td>0.0</td>\n",
       "      <td>0.0</td>\n",
       "      <td>0.0</td>\n",
       "      <td>0.0</td>\n",
       "      <td>0.0</td>\n",
       "      <td>0.0</td>\n",
       "      <td>0.0</td>\n",
       "      <td>...</td>\n",
       "      <td>0.0</td>\n",
       "      <td>0.0</td>\n",
       "      <td>0.0</td>\n",
       "      <td>0.0</td>\n",
       "      <td>0.0</td>\n",
       "      <td>0.0</td>\n",
       "      <td>0.0</td>\n",
       "      <td>0.0</td>\n",
       "      <td>0.0</td>\n",
       "      <td>0.0</td>\n",
       "    </tr>\n",
       "    <tr>\n",
       "      <th>4</th>\n",
       "      <td>0.0</td>\n",
       "      <td>0.0</td>\n",
       "      <td>0.0</td>\n",
       "      <td>0.0</td>\n",
       "      <td>0.0</td>\n",
       "      <td>0.0</td>\n",
       "      <td>0.0</td>\n",
       "      <td>0.0</td>\n",
       "      <td>0.0</td>\n",
       "      <td>0.0</td>\n",
       "      <td>...</td>\n",
       "      <td>0.0</td>\n",
       "      <td>0.0</td>\n",
       "      <td>0.0</td>\n",
       "      <td>0.0</td>\n",
       "      <td>0.0</td>\n",
       "      <td>0.0</td>\n",
       "      <td>0.0</td>\n",
       "      <td>0.0</td>\n",
       "      <td>0.0</td>\n",
       "      <td>0.0</td>\n",
       "    </tr>\n",
       "  </tbody>\n",
       "</table>\n",
       "<p>5 rows × 3890 columns</p>\n",
       "</div>"
      ],
      "text/plain": [
       "   000  000 year   10  10 year  100   11  11 year   12  12 year   13  ...  \\\n",
       "0  0.0       0.0  0.0      0.0  0.0  0.0      0.0  0.0      0.0  0.0  ...   \n",
       "1  0.0       0.0  0.0      0.0  0.0  0.0      0.0  0.0      0.0  0.0  ...   \n",
       "2  0.0       0.0  0.0      0.0  0.0  0.0      0.0  0.0      0.0  0.0  ...   \n",
       "3  0.0       0.0  0.0      0.0  0.0  0.0      0.0  0.0      0.0  0.0  ...   \n",
       "4  0.0       0.0  0.0      0.0  0.0  0.0      0.0  0.0      0.0  0.0  ...   \n",
       "\n",
       "   youth  youtube  youtube sensation  yuppie  zach  zach galifianakis  zack  \\\n",
       "0    0.0      0.0                0.0     0.0   0.0                0.0   0.0   \n",
       "1    0.0      0.0                0.0     0.0   0.0                0.0   0.0   \n",
       "2    0.0      0.0                0.0     0.0   0.0                0.0   0.0   \n",
       "3    0.0      0.0                0.0     0.0   0.0                0.0   0.0   \n",
       "4    0.0      0.0                0.0     0.0   0.0                0.0   0.0   \n",
       "\n",
       "   zion  zombie  zone  \n",
       "0   0.0     0.0   0.0  \n",
       "1   0.0     0.0   0.0  \n",
       "2   0.0     0.0   0.0  \n",
       "3   0.0     0.0   0.0  \n",
       "4   0.0     0.0   0.0  \n",
       "\n",
       "[5 rows x 3890 columns]"
      ]
     },
     "execution_count": 114,
     "metadata": {},
     "output_type": "execute_result"
    }
   ],
   "source": [
    "from sklearn.feature_extraction.text import TfidfVectorizer\n",
    "\n",
    "tfidf = TfidfVectorizer(ngram_range=(1,2),\n",
    "                      max_df=0.97,\n",
    "                      min_df=2,\n",
    "                      max_features = 5000)\n",
    "\n",
    "description = df['tokens'].astype(str)\n",
    "\n",
    "dtm = tfidf.fit_transform(description)\n",
    "\n",
    "dtm = pd.DataFrame(dtm.todense(), columns=tfidf.get_feature_names())\n",
    "\n",
    "dtm.head()"
   ]
  },
  {
   "cell_type": "markdown",
   "metadata": {},
   "source": [
    "### K-NearestNeighbor"
   ]
  },
  {
   "cell_type": "code",
   "execution_count": 115,
   "metadata": {},
   "outputs": [
    {
     "data": {
      "text/plain": [
       "NearestNeighbors(algorithm='kd_tree', leaf_size=30, metric='minkowski',\n",
       "                 metric_params=None, n_jobs=None, n_neighbors=5, p=2,\n",
       "                 radius=1.0)"
      ]
     },
     "execution_count": 115,
     "metadata": {},
     "output_type": "execute_result"
    }
   ],
   "source": [
    "from sklearn.neighbors import NearestNeighbors\n",
    "\n",
    "nn = NearestNeighbors(n_neighbors=5, algorithm='kd_tree')\n",
    "nn.fit(dtm)"
   ]
  },
  {
   "cell_type": "code",
   "execution_count": 116,
   "metadata": {},
   "outputs": [
    {
     "data": {
      "text/plain": [
       "(array([[0.        , 1.24401777, 1.26104799, 1.26332184, 1.27217177]]),\n",
       " array([[   0, 1150,  899,  751,  883]]))"
      ]
     },
     "execution_count": 116,
     "metadata": {},
     "output_type": "execute_result"
    }
   ],
   "source": [
    "nn.kneighbors([dtm.iloc[0].values])"
   ]
  },
  {
   "cell_type": "code",
   "execution_count": 117,
   "metadata": {},
   "outputs": [
    {
     "data": {
      "text/plain": [
       "(array([[0.        , 1.24401777, 1.26104799, 1.26332184, 1.27217177]]),\n",
       " array([[   0, 1150,  899,  751,  883]]))"
      ]
     },
     "execution_count": 117,
     "metadata": {},
     "output_type": "execute_result"
    }
   ],
   "source": [
    "nn.kneighbors([dtm.iloc[0]])"
   ]
  },
  {
   "cell_type": "markdown",
   "metadata": {},
   "source": [
    "### Query Movie Recommender"
   ]
  },
  {
   "cell_type": "code",
   "execution_count": 151,
   "metadata": {},
   "outputs": [],
   "source": [
    "movie = [\"vampire\"]"
   ]
  },
  {
   "cell_type": "code",
   "execution_count": 152,
   "metadata": {},
   "outputs": [],
   "source": [
    "new = tfidf.transform(movie)"
   ]
  },
  {
   "cell_type": "code",
   "execution_count": 153,
   "metadata": {},
   "outputs": [
    {
     "data": {
      "text/plain": [
       "<1x3890 sparse matrix of type '<class 'numpy.float64'>'\n",
       "\twith 1 stored elements in Compressed Sparse Row format>"
      ]
     },
     "execution_count": 153,
     "metadata": {},
     "output_type": "execute_result"
    }
   ],
   "source": [
    "new"
   ]
  },
  {
   "cell_type": "code",
   "execution_count": 154,
   "metadata": {},
   "outputs": [
    {
     "data": {
      "text/plain": [
       "(array([[1.15752961, 1.17315765, 1.18763369, 1.41421356, 1.41421356]]),\n",
       " array([[1032,  331, 1432, 1094, 1064]]))"
      ]
     },
     "execution_count": 154,
     "metadata": {},
     "output_type": "execute_result"
    }
   ],
   "source": [
    "nn.kneighbors(new.todense())"
   ]
  },
  {
   "cell_type": "code",
   "execution_count": 155,
   "metadata": {},
   "outputs": [
    {
     "data": {
      "text/plain": [
       "[1032, 331, 1432, 1094, 1064]"
      ]
     },
     "execution_count": 155,
     "metadata": {},
     "output_type": "execute_result"
    }
   ],
   "source": [
    "recommendations = nn.kneighbors(new.todense())[1].tolist()[0]\n",
    "recommendations"
   ]
  },
  {
   "cell_type": "code",
   "execution_count": 156,
   "metadata": {},
   "outputs": [
    {
     "data": {
      "text/html": [
       "<div>\n",
       "<style scoped>\n",
       "    .dataframe tbody tr th:only-of-type {\n",
       "        vertical-align: middle;\n",
       "    }\n",
       "\n",
       "    .dataframe tbody tr th {\n",
       "        vertical-align: top;\n",
       "    }\n",
       "\n",
       "    .dataframe thead th {\n",
       "        text-align: right;\n",
       "    }\n",
       "</style>\n",
       "<table border=\"1\" class=\"dataframe\">\n",
       "  <thead>\n",
       "    <tr style=\"text-align: right;\">\n",
       "      <th></th>\n",
       "      <th>type</th>\n",
       "      <th>title</th>\n",
       "      <th>cast</th>\n",
       "      <th>listed_in</th>\n",
       "      <th>description</th>\n",
       "    </tr>\n",
       "  </thead>\n",
       "  <tbody>\n",
       "    <tr>\n",
       "      <th>1032</th>\n",
       "      <td>Movie</td>\n",
       "      <td>Monster High: Frights, Camera, Action!</td>\n",
       "      <td>Sue Swan, Kate Higgins, Celeste Henderson, Mar...</td>\n",
       "      <td>children &amp; family movies</td>\n",
       "      <td>draculaura is whisked to transylvania to be cr...</td>\n",
       "    </tr>\n",
       "    <tr>\n",
       "      <th>331</th>\n",
       "      <td>Movie</td>\n",
       "      <td>Liar, Liar, Vampire</td>\n",
       "      <td>Rahart Adams, Brec Bassinger, Tiera Skovbye, L...</td>\n",
       "      <td>children &amp; family movies, comedies</td>\n",
       "      <td>when a shy teen transfers to a new school, he ...</td>\n",
       "    </tr>\n",
       "    <tr>\n",
       "      <th>1432</th>\n",
       "      <td>Movie</td>\n",
       "      <td>Cirque du Freak: The Vampire's Assistant</td>\n",
       "      <td>John C. Reilly, Ken Watanabe, Josh Hutcherson,...</td>\n",
       "      <td>action &amp; adventure, horror movies, sci-fi &amp; fa...</td>\n",
       "      <td>when darren shan is taken to a circus that's c...</td>\n",
       "    </tr>\n",
       "    <tr>\n",
       "      <th>1094</th>\n",
       "      <td>Movie</td>\n",
       "      <td>Trash Fire</td>\n",
       "      <td>Adrian Grenier, Angela Trimbur, AnnaLynne McCo...</td>\n",
       "      <td>comedies, dramas, independent movies</td>\n",
       "      <td>surprise news that his girlfriend is pregnant ...</td>\n",
       "    </tr>\n",
       "    <tr>\n",
       "      <th>1064</th>\n",
       "      <td>Movie</td>\n",
       "      <td>The Cloverfield Paradox</td>\n",
       "      <td>Gugu Mbatha-Raw, David Oyelowo, Daniel Brühl, ...</td>\n",
       "      <td>action &amp; adventure, sci-fi &amp; fantasy</td>\n",
       "      <td>orbiting above a planet on the brink of war, s...</td>\n",
       "    </tr>\n",
       "  </tbody>\n",
       "</table>\n",
       "</div>"
      ],
      "text/plain": [
       "       type                                     title  \\\n",
       "1032  Movie    Monster High: Frights, Camera, Action!   \n",
       "331   Movie                       Liar, Liar, Vampire   \n",
       "1432  Movie  Cirque du Freak: The Vampire's Assistant   \n",
       "1094  Movie                                Trash Fire   \n",
       "1064  Movie                   The Cloverfield Paradox   \n",
       "\n",
       "                                                   cast  \\\n",
       "1032  Sue Swan, Kate Higgins, Celeste Henderson, Mar...   \n",
       "331   Rahart Adams, Brec Bassinger, Tiera Skovbye, L...   \n",
       "1432  John C. Reilly, Ken Watanabe, Josh Hutcherson,...   \n",
       "1094  Adrian Grenier, Angela Trimbur, AnnaLynne McCo...   \n",
       "1064  Gugu Mbatha-Raw, David Oyelowo, Daniel Brühl, ...   \n",
       "\n",
       "                                              listed_in  \\\n",
       "1032                           children & family movies   \n",
       "331                  children & family movies, comedies   \n",
       "1432  action & adventure, horror movies, sci-fi & fa...   \n",
       "1094               comedies, dramas, independent movies   \n",
       "1064               action & adventure, sci-fi & fantasy   \n",
       "\n",
       "                                            description  \n",
       "1032  draculaura is whisked to transylvania to be cr...  \n",
       "331   when a shy teen transfers to a new school, he ...  \n",
       "1432  when darren shan is taken to a circus that's c...  \n",
       "1094  surprise news that his girlfriend is pregnant ...  \n",
       "1064  orbiting above a planet on the brink of war, s...  "
      ]
     },
     "execution_count": 156,
     "metadata": {},
     "output_type": "execute_result"
    }
   ],
   "source": [
    "df[['type','title','cast','listed_in','description']].iloc[recommendations]"
   ]
  },
  {
   "cell_type": "code",
   "execution_count": null,
   "metadata": {},
   "outputs": [],
   "source": []
  }
 ],
 "metadata": {
  "kernelspec": {
   "display_name": "Python 3",
   "language": "python",
   "name": "python3"
  },
  "language_info": {
   "codemirror_mode": {
    "name": "ipython",
    "version": 3
   },
   "file_extension": ".py",
   "mimetype": "text/x-python",
   "name": "python",
   "nbconvert_exporter": "python",
   "pygments_lexer": "ipython3",
   "version": "3.7.6"
  }
 },
 "nbformat": 4,
 "nbformat_minor": 4
}
