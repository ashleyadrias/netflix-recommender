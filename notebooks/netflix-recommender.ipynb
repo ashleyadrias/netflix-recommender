{
 "cells": [
  {
   "cell_type": "markdown",
   "metadata": {},
   "source": [
    "# Netflix Recommender Using K Nearest Neighbors"
   ]
  },
  {
   "cell_type": "markdown",
   "metadata": {},
   "source": [
    "### import packages"
   ]
  },
  {
   "cell_type": "code",
   "execution_count": 19,
   "metadata": {},
   "outputs": [],
   "source": [
    "import pandas as pd\n",
    "import tqdm\n",
    "from tqdm import tqdm\n",
    "\n",
    "import spacy"
   ]
  },
  {
   "cell_type": "markdown",
   "metadata": {},
   "source": [
    "### Data Exploration\n",
    "\n",
    "My goal is to create a simple Machine Learning Model that enables the user to input their desired movie description and recieve a list of movie recommendations. The first step of this process is to use a dataset that includes Movie Titles and their respective descriptions. Luckily, Netflix has provided this dataset."
   ]
  },
  {
   "cell_type": "code",
   "execution_count": 4,
   "metadata": {},
   "outputs": [
    {
     "data": {
      "text/html": [
       "<div>\n",
       "<style scoped>\n",
       "    .dataframe tbody tr th:only-of-type {\n",
       "        vertical-align: middle;\n",
       "    }\n",
       "\n",
       "    .dataframe tbody tr th {\n",
       "        vertical-align: top;\n",
       "    }\n",
       "\n",
       "    .dataframe thead th {\n",
       "        text-align: right;\n",
       "    }\n",
       "</style>\n",
       "<table border=\"1\" class=\"dataframe\">\n",
       "  <thead>\n",
       "    <tr style=\"text-align: right;\">\n",
       "      <th></th>\n",
       "      <th>show_id</th>\n",
       "      <th>type</th>\n",
       "      <th>title</th>\n",
       "      <th>director</th>\n",
       "      <th>cast</th>\n",
       "      <th>country</th>\n",
       "      <th>date_added</th>\n",
       "      <th>release_year</th>\n",
       "      <th>rating</th>\n",
       "      <th>duration</th>\n",
       "      <th>listed_in</th>\n",
       "      <th>description</th>\n",
       "    </tr>\n",
       "  </thead>\n",
       "  <tbody>\n",
       "    <tr>\n",
       "      <th>0</th>\n",
       "      <td>81145628</td>\n",
       "      <td>Movie</td>\n",
       "      <td>Norm of the North: King Sized Adventure</td>\n",
       "      <td>Richard Finn, Tim Maltby</td>\n",
       "      <td>Alan Marriott, Andrew Toth, Brian Dobson, Cole...</td>\n",
       "      <td>United States, India, South Korea, China</td>\n",
       "      <td>September 9, 2019</td>\n",
       "      <td>2019</td>\n",
       "      <td>TV-PG</td>\n",
       "      <td>90 min</td>\n",
       "      <td>Children &amp; Family Movies, Comedies</td>\n",
       "      <td>Before planning an awesome wedding for his gra...</td>\n",
       "    </tr>\n",
       "    <tr>\n",
       "      <th>1</th>\n",
       "      <td>80117401</td>\n",
       "      <td>Movie</td>\n",
       "      <td>Jandino: Whatever it Takes</td>\n",
       "      <td>NaN</td>\n",
       "      <td>Jandino Asporaat</td>\n",
       "      <td>United Kingdom</td>\n",
       "      <td>September 9, 2016</td>\n",
       "      <td>2016</td>\n",
       "      <td>TV-MA</td>\n",
       "      <td>94 min</td>\n",
       "      <td>Stand-Up Comedy</td>\n",
       "      <td>Jandino Asporaat riffs on the challenges of ra...</td>\n",
       "    </tr>\n",
       "    <tr>\n",
       "      <th>2</th>\n",
       "      <td>70234439</td>\n",
       "      <td>TV Show</td>\n",
       "      <td>Transformers Prime</td>\n",
       "      <td>NaN</td>\n",
       "      <td>Peter Cullen, Sumalee Montano, Frank Welker, J...</td>\n",
       "      <td>United States</td>\n",
       "      <td>September 8, 2018</td>\n",
       "      <td>2013</td>\n",
       "      <td>TV-Y7-FV</td>\n",
       "      <td>1 Season</td>\n",
       "      <td>Kids' TV</td>\n",
       "      <td>With the help of three human allies, the Autob...</td>\n",
       "    </tr>\n",
       "    <tr>\n",
       "      <th>3</th>\n",
       "      <td>80058654</td>\n",
       "      <td>TV Show</td>\n",
       "      <td>Transformers: Robots in Disguise</td>\n",
       "      <td>NaN</td>\n",
       "      <td>Will Friedle, Darren Criss, Constance Zimmer, ...</td>\n",
       "      <td>United States</td>\n",
       "      <td>September 8, 2018</td>\n",
       "      <td>2016</td>\n",
       "      <td>TV-Y7</td>\n",
       "      <td>1 Season</td>\n",
       "      <td>Kids' TV</td>\n",
       "      <td>When a prison ship crash unleashes hundreds of...</td>\n",
       "    </tr>\n",
       "    <tr>\n",
       "      <th>4</th>\n",
       "      <td>80125979</td>\n",
       "      <td>Movie</td>\n",
       "      <td>#realityhigh</td>\n",
       "      <td>Fernando Lebrija</td>\n",
       "      <td>Nesta Cooper, Kate Walsh, John Michael Higgins...</td>\n",
       "      <td>United States</td>\n",
       "      <td>September 8, 2017</td>\n",
       "      <td>2017</td>\n",
       "      <td>TV-14</td>\n",
       "      <td>99 min</td>\n",
       "      <td>Comedies</td>\n",
       "      <td>When nerdy high schooler Dani finally attracts...</td>\n",
       "    </tr>\n",
       "  </tbody>\n",
       "</table>\n",
       "</div>"
      ],
      "text/plain": [
       "    show_id     type                                    title  \\\n",
       "0  81145628    Movie  Norm of the North: King Sized Adventure   \n",
       "1  80117401    Movie               Jandino: Whatever it Takes   \n",
       "2  70234439  TV Show                       Transformers Prime   \n",
       "3  80058654  TV Show         Transformers: Robots in Disguise   \n",
       "4  80125979    Movie                             #realityhigh   \n",
       "\n",
       "                   director  \\\n",
       "0  Richard Finn, Tim Maltby   \n",
       "1                       NaN   \n",
       "2                       NaN   \n",
       "3                       NaN   \n",
       "4          Fernando Lebrija   \n",
       "\n",
       "                                                cast  \\\n",
       "0  Alan Marriott, Andrew Toth, Brian Dobson, Cole...   \n",
       "1                                   Jandino Asporaat   \n",
       "2  Peter Cullen, Sumalee Montano, Frank Welker, J...   \n",
       "3  Will Friedle, Darren Criss, Constance Zimmer, ...   \n",
       "4  Nesta Cooper, Kate Walsh, John Michael Higgins...   \n",
       "\n",
       "                                    country         date_added  release_year  \\\n",
       "0  United States, India, South Korea, China  September 9, 2019          2019   \n",
       "1                            United Kingdom  September 9, 2016          2016   \n",
       "2                             United States  September 8, 2018          2013   \n",
       "3                             United States  September 8, 2018          2016   \n",
       "4                             United States  September 8, 2017          2017   \n",
       "\n",
       "     rating  duration                           listed_in  \\\n",
       "0     TV-PG    90 min  Children & Family Movies, Comedies   \n",
       "1     TV-MA    94 min                     Stand-Up Comedy   \n",
       "2  TV-Y7-FV  1 Season                            Kids' TV   \n",
       "3     TV-Y7  1 Season                            Kids' TV   \n",
       "4     TV-14    99 min                            Comedies   \n",
       "\n",
       "                                         description  \n",
       "0  Before planning an awesome wedding for his gra...  \n",
       "1  Jandino Asporaat riffs on the challenges of ra...  \n",
       "2  With the help of three human allies, the Autob...  \n",
       "3  When a prison ship crash unleashes hundreds of...  \n",
       "4  When nerdy high schooler Dani finally attracts...  "
      ]
     },
     "execution_count": 4,
     "metadata": {},
     "output_type": "execute_result"
    }
   ],
   "source": [
    "df = pd.read_csv('netflix_titles.csv')\n",
    "df.head()"
   ]
  },
  {
   "cell_type": "code",
   "execution_count": 5,
   "metadata": {},
   "outputs": [
    {
     "data": {
      "text/plain": [
       "(6234, 12)"
      ]
     },
     "execution_count": 5,
     "metadata": {},
     "output_type": "execute_result"
    }
   ],
   "source": [
    "df.shape"
   ]
  },
  {
   "cell_type": "code",
   "execution_count": 6,
   "metadata": {},
   "outputs": [
    {
     "data": {
      "text/plain": [
       "Movie      4265\n",
       "TV Show    1969\n",
       "Name: type, dtype: int64"
      ]
     },
     "execution_count": 6,
     "metadata": {},
     "output_type": "execute_result"
    }
   ],
   "source": [
    "df['type'].value_counts()"
   ]
  },
  {
   "cell_type": "code",
   "execution_count": 7,
   "metadata": {},
   "outputs": [
    {
     "data": {
      "text/plain": [
       "United States                         2032\n",
       "India                                  777\n",
       "United Kingdom                         348\n",
       "Japan                                  176\n",
       "Canada                                 141\n",
       "                                      ... \n",
       "United Kingdom, Pakistan                 1\n",
       "Iran, France                             1\n",
       "South Africa, China, United States       1\n",
       "Lebanon, Jordan                          1\n",
       "Spain, Cuba                              1\n",
       "Name: country, Length: 554, dtype: int64"
      ]
     },
     "execution_count": 7,
     "metadata": {},
     "output_type": "execute_result"
    }
   ],
   "source": [
    "df['country'].value_counts()"
   ]
  },
  {
   "cell_type": "code",
   "execution_count": 8,
   "metadata": {},
   "outputs": [
    {
     "data": {
      "text/plain": [
       "(1482, 12)"
      ]
     },
     "execution_count": 8,
     "metadata": {},
     "output_type": "execute_result"
    }
   ],
   "source": [
    "df = df[(df['type'] == 'Movie') & (df['country'] == 'United States')]\n",
    "df = df.reset_index(drop=True)\n",
    "df.shape"
   ]
  },
  {
   "cell_type": "code",
   "execution_count": 9,
   "metadata": {},
   "outputs": [
    {
     "data": {
      "text/plain": [
       "show_id           0\n",
       "type              0\n",
       "title             0\n",
       "director         40\n",
       "cast            145\n",
       "country           0\n",
       "date_added        0\n",
       "release_year      0\n",
       "rating            3\n",
       "duration          0\n",
       "listed_in         0\n",
       "description       0\n",
       "dtype: int64"
      ]
     },
     "execution_count": 9,
     "metadata": {},
     "output_type": "execute_result"
    }
   ],
   "source": [
    "df.isnull().sum()"
   ]
  },
  {
   "cell_type": "markdown",
   "metadata": {},
   "source": [
    "The Netflix dataset includes an assortment of Movies and TV-Shows from many Countries. I wanted to target only Movies in the United States, so the dataset reduces from 6234 to 1482 obervations."
   ]
  },
  {
   "cell_type": "code",
   "execution_count": 10,
   "metadata": {},
   "outputs": [
    {
     "data": {
      "text/html": [
       "<div>\n",
       "<style scoped>\n",
       "    .dataframe tbody tr th:only-of-type {\n",
       "        vertical-align: middle;\n",
       "    }\n",
       "\n",
       "    .dataframe tbody tr th {\n",
       "        vertical-align: top;\n",
       "    }\n",
       "\n",
       "    .dataframe thead th {\n",
       "        text-align: right;\n",
       "    }\n",
       "</style>\n",
       "<table border=\"1\" class=\"dataframe\">\n",
       "  <thead>\n",
       "    <tr style=\"text-align: right;\">\n",
       "      <th></th>\n",
       "      <th>show_id</th>\n",
       "      <th>type</th>\n",
       "      <th>title</th>\n",
       "      <th>director</th>\n",
       "      <th>cast</th>\n",
       "      <th>country</th>\n",
       "      <th>date_added</th>\n",
       "      <th>release_year</th>\n",
       "      <th>rating</th>\n",
       "      <th>duration</th>\n",
       "      <th>listed_in</th>\n",
       "      <th>description</th>\n",
       "    </tr>\n",
       "  </thead>\n",
       "  <tbody>\n",
       "    <tr>\n",
       "      <th>0</th>\n",
       "      <td>80125979</td>\n",
       "      <td>Movie</td>\n",
       "      <td>#realityhigh</td>\n",
       "      <td>Fernando Lebrija</td>\n",
       "      <td>Nesta Cooper, Kate Walsh, John Michael Higgins...</td>\n",
       "      <td>United States</td>\n",
       "      <td>September 8, 2017</td>\n",
       "      <td>2017</td>\n",
       "      <td>TV-14</td>\n",
       "      <td>99 min</td>\n",
       "      <td>Comedies</td>\n",
       "      <td>When nerdy high schooler Dani finally attracts...</td>\n",
       "    </tr>\n",
       "    <tr>\n",
       "      <th>1</th>\n",
       "      <td>80060297</td>\n",
       "      <td>Movie</td>\n",
       "      <td>Manhattan Romance</td>\n",
       "      <td>Tom O'Brien</td>\n",
       "      <td>Tom O'Brien, Katherine Waterston, Caitlin Fitz...</td>\n",
       "      <td>United States</td>\n",
       "      <td>September 8, 2017</td>\n",
       "      <td>2014</td>\n",
       "      <td>TV-14</td>\n",
       "      <td>98 min</td>\n",
       "      <td>Comedies, Independent Movies, Romantic Movies</td>\n",
       "      <td>A filmmaker working on a documentary about lov...</td>\n",
       "    </tr>\n",
       "    <tr>\n",
       "      <th>2</th>\n",
       "      <td>70304988</td>\n",
       "      <td>Movie</td>\n",
       "      <td>Stonehearst Asylum</td>\n",
       "      <td>Brad Anderson</td>\n",
       "      <td>Kate Beckinsale, Jim Sturgess, David Thewlis, ...</td>\n",
       "      <td>United States</td>\n",
       "      <td>September 8, 2017</td>\n",
       "      <td>2014</td>\n",
       "      <td>PG-13</td>\n",
       "      <td>113 min</td>\n",
       "      <td>Horror Movies, Thrillers</td>\n",
       "      <td>In 1899, a young doctor arrives at an asylum f...</td>\n",
       "    </tr>\n",
       "    <tr>\n",
       "      <th>3</th>\n",
       "      <td>80057700</td>\n",
       "      <td>Movie</td>\n",
       "      <td>The Runner</td>\n",
       "      <td>Austin Stark</td>\n",
       "      <td>Nicolas Cage, Sarah Paulson, Connie Nielsen, W...</td>\n",
       "      <td>United States</td>\n",
       "      <td>September 8, 2017</td>\n",
       "      <td>2015</td>\n",
       "      <td>R</td>\n",
       "      <td>90 min</td>\n",
       "      <td>Dramas, Independent Movies</td>\n",
       "      <td>A New Orleans politician finds his idealistic ...</td>\n",
       "    </tr>\n",
       "    <tr>\n",
       "      <th>4</th>\n",
       "      <td>80045922</td>\n",
       "      <td>Movie</td>\n",
       "      <td>6 Years</td>\n",
       "      <td>Hannah Fidell</td>\n",
       "      <td>Taissa Farmiga, Ben Rosenfield, Lindsay Burdge...</td>\n",
       "      <td>United States</td>\n",
       "      <td>September 8, 2015</td>\n",
       "      <td>2015</td>\n",
       "      <td>NR</td>\n",
       "      <td>80 min</td>\n",
       "      <td>Dramas, Independent Movies, Romantic Movies</td>\n",
       "      <td>As a volatile young couple who have been toget...</td>\n",
       "    </tr>\n",
       "  </tbody>\n",
       "</table>\n",
       "</div>"
      ],
      "text/plain": [
       "    show_id   type               title          director  \\\n",
       "0  80125979  Movie        #realityhigh  Fernando Lebrija   \n",
       "1  80060297  Movie   Manhattan Romance       Tom O'Brien   \n",
       "2  70304988  Movie  Stonehearst Asylum     Brad Anderson   \n",
       "3  80057700  Movie          The Runner      Austin Stark   \n",
       "4  80045922  Movie             6 Years     Hannah Fidell   \n",
       "\n",
       "                                                cast        country  \\\n",
       "0  Nesta Cooper, Kate Walsh, John Michael Higgins...  United States   \n",
       "1  Tom O'Brien, Katherine Waterston, Caitlin Fitz...  United States   \n",
       "2  Kate Beckinsale, Jim Sturgess, David Thewlis, ...  United States   \n",
       "3  Nicolas Cage, Sarah Paulson, Connie Nielsen, W...  United States   \n",
       "4  Taissa Farmiga, Ben Rosenfield, Lindsay Burdge...  United States   \n",
       "\n",
       "          date_added  release_year rating duration  \\\n",
       "0  September 8, 2017          2017  TV-14   99 min   \n",
       "1  September 8, 2017          2014  TV-14   98 min   \n",
       "2  September 8, 2017          2014  PG-13  113 min   \n",
       "3  September 8, 2017          2015      R   90 min   \n",
       "4  September 8, 2015          2015     NR   80 min   \n",
       "\n",
       "                                       listed_in  \\\n",
       "0                                       Comedies   \n",
       "1  Comedies, Independent Movies, Romantic Movies   \n",
       "2                       Horror Movies, Thrillers   \n",
       "3                     Dramas, Independent Movies   \n",
       "4    Dramas, Independent Movies, Romantic Movies   \n",
       "\n",
       "                                         description  \n",
       "0  When nerdy high schooler Dani finally attracts...  \n",
       "1  A filmmaker working on a documentary about lov...  \n",
       "2  In 1899, a young doctor arrives at an asylum f...  \n",
       "3  A New Orleans politician finds his idealistic ...  \n",
       "4  As a volatile young couple who have been toget...  "
      ]
     },
     "execution_count": 10,
     "metadata": {},
     "output_type": "execute_result"
    }
   ],
   "source": [
    "df.head()"
   ]
  },
  {
   "cell_type": "markdown",
   "metadata": {},
   "source": [
    "### Testing out Spacy on 1 Review"
   ]
  },
  {
   "cell_type": "code",
   "execution_count": 10,
   "metadata": {
    "scrolled": true
   },
   "outputs": [
    {
     "data": {
      "text/plain": [
       "'When nerdy high schooler Dani finally attracts the interest of her longtime crush, she lands in the cross hairs of his ex, a social media celebrity.'"
      ]
     },
     "execution_count": 10,
     "metadata": {},
     "output_type": "execute_result"
    }
   ],
   "source": [
    "df['description'][0]"
   ]
  },
  {
   "cell_type": "code",
   "execution_count": 11,
   "metadata": {},
   "outputs": [
    {
     "data": {
      "text/plain": [
       "When nerdy high schooler Dani finally attracts the interest of her longtime crush, she lands in the cross hairs of his ex, a social media celebrity."
      ]
     },
     "execution_count": 11,
     "metadata": {},
     "output_type": "execute_result"
    }
   ],
   "source": [
    "doc = nlp(df['description'][0])\n",
    "doc"
   ]
  },
  {
   "cell_type": "code",
   "execution_count": 12,
   "metadata": {},
   "outputs": [
    {
     "data": {
      "text/plain": [
       "['nerdy',\n",
       " 'high',\n",
       " 'schooler',\n",
       " 'Dani',\n",
       " 'finally',\n",
       " 'attract',\n",
       " 'interest',\n",
       " 'longtime',\n",
       " 'crush',\n",
       " 'land',\n",
       " 'cross',\n",
       " 'hair',\n",
       " 'ex',\n",
       " 'social',\n",
       " 'medium',\n",
       " 'celebrity']"
      ]
     },
     "execution_count": 12,
     "metadata": {},
     "output_type": "execute_result"
    }
   ],
   "source": [
    "doc = [token.lemma_ for token in doc if (token.is_stop == False) and (token.is_punct == False)]\n",
    "doc"
   ]
  },
  {
   "cell_type": "code",
   "execution_count": 13,
   "metadata": {},
   "outputs": [
    {
     "data": {
      "text/plain": [
       "'3'"
      ]
     },
     "execution_count": 13,
     "metadata": {},
     "output_type": "execute_result"
    }
   ],
   "source": [
    "list1 = pd.Series([\" 1\", \"2\", ' 3'])\n",
    "list1 = list1.apply(lambda x:x.strip())\n",
    "list1[2]"
   ]
  },
  {
   "cell_type": "markdown",
   "metadata": {},
   "source": [
    "### Tokenize, Remove Stop words, and Punct"
   ]
  },
  {
   "cell_type": "markdown",
   "metadata": {},
   "source": [
    "Before vectorizing the Movies descriptions, I had to apply two preprocessing steps to lowercase and remove whitespace. I also combined the 'listed_in' and 'description' columns. Then I used Spacy's pretrained NLP model (en_core_web_lg) to lemmatize, remove stop words, and punctuations."
   ]
  },
  {
   "cell_type": "code",
   "execution_count": 11,
   "metadata": {},
   "outputs": [
    {
     "data": {
      "text/html": [
       "<div>\n",
       "<style scoped>\n",
       "    .dataframe tbody tr th:only-of-type {\n",
       "        vertical-align: middle;\n",
       "    }\n",
       "\n",
       "    .dataframe tbody tr th {\n",
       "        vertical-align: top;\n",
       "    }\n",
       "\n",
       "    .dataframe thead th {\n",
       "        text-align: right;\n",
       "    }\n",
       "</style>\n",
       "<table border=\"1\" class=\"dataframe\">\n",
       "  <thead>\n",
       "    <tr style=\"text-align: right;\">\n",
       "      <th></th>\n",
       "      <th>show_id</th>\n",
       "      <th>type</th>\n",
       "      <th>title</th>\n",
       "      <th>director</th>\n",
       "      <th>cast</th>\n",
       "      <th>country</th>\n",
       "      <th>date_added</th>\n",
       "      <th>release_year</th>\n",
       "      <th>rating</th>\n",
       "      <th>duration</th>\n",
       "      <th>listed_in</th>\n",
       "      <th>description</th>\n",
       "    </tr>\n",
       "  </thead>\n",
       "  <tbody>\n",
       "    <tr>\n",
       "      <th>0</th>\n",
       "      <td>80125979</td>\n",
       "      <td>Movie</td>\n",
       "      <td>#realityhigh</td>\n",
       "      <td>Fernando Lebrija</td>\n",
       "      <td>Nesta Cooper, Kate Walsh, John Michael Higgins...</td>\n",
       "      <td>United States</td>\n",
       "      <td>September 8, 2017</td>\n",
       "      <td>2017</td>\n",
       "      <td>TV-14</td>\n",
       "      <td>99 min</td>\n",
       "      <td>comedies</td>\n",
       "      <td>when nerdy high schooler dani finally attracts...</td>\n",
       "    </tr>\n",
       "    <tr>\n",
       "      <th>1</th>\n",
       "      <td>80060297</td>\n",
       "      <td>Movie</td>\n",
       "      <td>Manhattan Romance</td>\n",
       "      <td>Tom O'Brien</td>\n",
       "      <td>Tom O'Brien, Katherine Waterston, Caitlin Fitz...</td>\n",
       "      <td>United States</td>\n",
       "      <td>September 8, 2017</td>\n",
       "      <td>2014</td>\n",
       "      <td>TV-14</td>\n",
       "      <td>98 min</td>\n",
       "      <td>comedies, independent movies, romantic movies</td>\n",
       "      <td>a filmmaker working on a documentary about lov...</td>\n",
       "    </tr>\n",
       "    <tr>\n",
       "      <th>2</th>\n",
       "      <td>70304988</td>\n",
       "      <td>Movie</td>\n",
       "      <td>Stonehearst Asylum</td>\n",
       "      <td>Brad Anderson</td>\n",
       "      <td>Kate Beckinsale, Jim Sturgess, David Thewlis, ...</td>\n",
       "      <td>United States</td>\n",
       "      <td>September 8, 2017</td>\n",
       "      <td>2014</td>\n",
       "      <td>PG-13</td>\n",
       "      <td>113 min</td>\n",
       "      <td>horror movies, thrillers</td>\n",
       "      <td>in 1899, a young doctor arrives at an asylum f...</td>\n",
       "    </tr>\n",
       "    <tr>\n",
       "      <th>3</th>\n",
       "      <td>80057700</td>\n",
       "      <td>Movie</td>\n",
       "      <td>The Runner</td>\n",
       "      <td>Austin Stark</td>\n",
       "      <td>Nicolas Cage, Sarah Paulson, Connie Nielsen, W...</td>\n",
       "      <td>United States</td>\n",
       "      <td>September 8, 2017</td>\n",
       "      <td>2015</td>\n",
       "      <td>R</td>\n",
       "      <td>90 min</td>\n",
       "      <td>dramas, independent movies</td>\n",
       "      <td>a new orleans politician finds his idealistic ...</td>\n",
       "    </tr>\n",
       "    <tr>\n",
       "      <th>4</th>\n",
       "      <td>80045922</td>\n",
       "      <td>Movie</td>\n",
       "      <td>6 Years</td>\n",
       "      <td>Hannah Fidell</td>\n",
       "      <td>Taissa Farmiga, Ben Rosenfield, Lindsay Burdge...</td>\n",
       "      <td>United States</td>\n",
       "      <td>September 8, 2015</td>\n",
       "      <td>2015</td>\n",
       "      <td>NR</td>\n",
       "      <td>80 min</td>\n",
       "      <td>dramas, independent movies, romantic movies</td>\n",
       "      <td>as a volatile young couple who have been toget...</td>\n",
       "    </tr>\n",
       "  </tbody>\n",
       "</table>\n",
       "</div>"
      ],
      "text/plain": [
       "    show_id   type               title          director  \\\n",
       "0  80125979  Movie        #realityhigh  Fernando Lebrija   \n",
       "1  80060297  Movie   Manhattan Romance       Tom O'Brien   \n",
       "2  70304988  Movie  Stonehearst Asylum     Brad Anderson   \n",
       "3  80057700  Movie          The Runner      Austin Stark   \n",
       "4  80045922  Movie             6 Years     Hannah Fidell   \n",
       "\n",
       "                                                cast        country  \\\n",
       "0  Nesta Cooper, Kate Walsh, John Michael Higgins...  United States   \n",
       "1  Tom O'Brien, Katherine Waterston, Caitlin Fitz...  United States   \n",
       "2  Kate Beckinsale, Jim Sturgess, David Thewlis, ...  United States   \n",
       "3  Nicolas Cage, Sarah Paulson, Connie Nielsen, W...  United States   \n",
       "4  Taissa Farmiga, Ben Rosenfield, Lindsay Burdge...  United States   \n",
       "\n",
       "          date_added  release_year rating duration  \\\n",
       "0  September 8, 2017          2017  TV-14   99 min   \n",
       "1  September 8, 2017          2014  TV-14   98 min   \n",
       "2  September 8, 2017          2014  PG-13  113 min   \n",
       "3  September 8, 2017          2015      R   90 min   \n",
       "4  September 8, 2015          2015     NR   80 min   \n",
       "\n",
       "                                       listed_in  \\\n",
       "0                                       comedies   \n",
       "1  comedies, independent movies, romantic movies   \n",
       "2                       horror movies, thrillers   \n",
       "3                     dramas, independent movies   \n",
       "4    dramas, independent movies, romantic movies   \n",
       "\n",
       "                                         description  \n",
       "0  when nerdy high schooler dani finally attracts...  \n",
       "1  a filmmaker working on a documentary about lov...  \n",
       "2  in 1899, a young doctor arrives at an asylum f...  \n",
       "3  a new orleans politician finds his idealistic ...  \n",
       "4  as a volatile young couple who have been toget...  "
      ]
     },
     "execution_count": 11,
     "metadata": {},
     "output_type": "execute_result"
    }
   ],
   "source": [
    "df['description']=df['description'].apply(lambda x:x.lower())\n",
    "df['listed_in']=df['listed_in'].apply(lambda x:x.lower())\n",
    "\n",
    "df['description']=df['description'].apply(lambda x:x.strip())\n",
    "df['listed_in']=df['listed_in'].apply(lambda x:x.strip())\n",
    "\n",
    "df.head()"
   ]
  },
  {
   "cell_type": "code",
   "execution_count": null,
   "metadata": {},
   "outputs": [],
   "source": [
    "nlp = spacy.load(\"en_core_web_lg\")"
   ]
  },
  {
   "cell_type": "code",
   "execution_count": 28,
   "metadata": {},
   "outputs": [
    {
     "name": "stderr",
     "output_type": "stream",
     "text": [
      "1482it [00:15, 96.07it/s]\n"
     ]
    }
   ],
   "source": [
    "#Extract tokens from reviews using Spacy\n",
    "# nlp.Defaults.stop_words |= {\"my_new_stopword1\",\"my_new_stopword2\",}\n",
    "\n",
    "other_words = ['movie','find',' movie', 'movie ', ' movie ', 'movies']\n",
    "\n",
    "tokens = []\n",
    "\n",
    "for index,row in tqdm(df.iterrows()):\n",
    "    description = row['description']\n",
    "    listed_in = row['listed_in']\n",
    "    doc = description + listed_in\n",
    "    doc = nlp(doc)\n",
    "    doc = [token.lemma_ for token in doc if (token.is_stop != True) and (token.is_punct != True) and (str(token) not in other_words)]\n",
    "    tokens.append(doc)"
   ]
  },
  {
   "cell_type": "code",
   "execution_count": 29,
   "metadata": {},
   "outputs": [
    {
     "data": {
      "text/plain": [
       "['nerdy',\n",
       " 'high',\n",
       " 'schooler',\n",
       " 'dani',\n",
       " 'finally',\n",
       " 'attract',\n",
       " 'interest',\n",
       " 'longtime',\n",
       " 'crush',\n",
       " 'land',\n",
       " 'cross',\n",
       " 'hair',\n",
       " 'ex',\n",
       " 'social',\n",
       " 'medium',\n",
       " 'celebrity.comedie']"
      ]
     },
     "execution_count": 29,
     "metadata": {},
     "output_type": "execute_result"
    }
   ],
   "source": [
    "tokens[0]"
   ]
  },
  {
   "cell_type": "code",
   "execution_count": 30,
   "metadata": {},
   "outputs": [
    {
     "data": {
      "text/html": [
       "<div>\n",
       "<style scoped>\n",
       "    .dataframe tbody tr th:only-of-type {\n",
       "        vertical-align: middle;\n",
       "    }\n",
       "\n",
       "    .dataframe tbody tr th {\n",
       "        vertical-align: top;\n",
       "    }\n",
       "\n",
       "    .dataframe thead th {\n",
       "        text-align: right;\n",
       "    }\n",
       "</style>\n",
       "<table border=\"1\" class=\"dataframe\">\n",
       "  <thead>\n",
       "    <tr style=\"text-align: right;\">\n",
       "      <th></th>\n",
       "      <th>show_id</th>\n",
       "      <th>type</th>\n",
       "      <th>title</th>\n",
       "      <th>director</th>\n",
       "      <th>cast</th>\n",
       "      <th>country</th>\n",
       "      <th>date_added</th>\n",
       "      <th>release_year</th>\n",
       "      <th>rating</th>\n",
       "      <th>duration</th>\n",
       "      <th>listed_in</th>\n",
       "      <th>description</th>\n",
       "      <th>tokens</th>\n",
       "    </tr>\n",
       "  </thead>\n",
       "  <tbody>\n",
       "    <tr>\n",
       "      <th>0</th>\n",
       "      <td>80125979</td>\n",
       "      <td>Movie</td>\n",
       "      <td>#realityhigh</td>\n",
       "      <td>Fernando Lebrija</td>\n",
       "      <td>Nesta Cooper, Kate Walsh, John Michael Higgins...</td>\n",
       "      <td>United States</td>\n",
       "      <td>September 8, 2017</td>\n",
       "      <td>2017</td>\n",
       "      <td>TV-14</td>\n",
       "      <td>99 min</td>\n",
       "      <td>comedies</td>\n",
       "      <td>when nerdy high schooler dani finally attracts...</td>\n",
       "      <td>[nerdy, high, schooler, dani, finally, attract...</td>\n",
       "    </tr>\n",
       "    <tr>\n",
       "      <th>1</th>\n",
       "      <td>80060297</td>\n",
       "      <td>Movie</td>\n",
       "      <td>Manhattan Romance</td>\n",
       "      <td>Tom O'Brien</td>\n",
       "      <td>Tom O'Brien, Katherine Waterston, Caitlin Fitz...</td>\n",
       "      <td>United States</td>\n",
       "      <td>September 8, 2017</td>\n",
       "      <td>2014</td>\n",
       "      <td>TV-14</td>\n",
       "      <td>98 min</td>\n",
       "      <td>comedies, independent movies, romantic movies</td>\n",
       "      <td>a filmmaker working on a documentary about lov...</td>\n",
       "      <td>[filmmaker, work, documentary, love, modern, m...</td>\n",
       "    </tr>\n",
       "    <tr>\n",
       "      <th>2</th>\n",
       "      <td>70304988</td>\n",
       "      <td>Movie</td>\n",
       "      <td>Stonehearst Asylum</td>\n",
       "      <td>Brad Anderson</td>\n",
       "      <td>Kate Beckinsale, Jim Sturgess, David Thewlis, ...</td>\n",
       "      <td>United States</td>\n",
       "      <td>September 8, 2017</td>\n",
       "      <td>2014</td>\n",
       "      <td>PG-13</td>\n",
       "      <td>113 min</td>\n",
       "      <td>horror movies, thrillers</td>\n",
       "      <td>in 1899, a young doctor arrives at an asylum f...</td>\n",
       "      <td>[1899, young, doctor, arrive, asylum, apprenti...</td>\n",
       "    </tr>\n",
       "    <tr>\n",
       "      <th>3</th>\n",
       "      <td>80057700</td>\n",
       "      <td>Movie</td>\n",
       "      <td>The Runner</td>\n",
       "      <td>Austin Stark</td>\n",
       "      <td>Nicolas Cage, Sarah Paulson, Connie Nielsen, W...</td>\n",
       "      <td>United States</td>\n",
       "      <td>September 8, 2017</td>\n",
       "      <td>2015</td>\n",
       "      <td>R</td>\n",
       "      <td>90 min</td>\n",
       "      <td>dramas, independent movies</td>\n",
       "      <td>a new orleans politician finds his idealistic ...</td>\n",
       "      <td>[new, orlean, politician, find, idealistic, pl...</td>\n",
       "    </tr>\n",
       "    <tr>\n",
       "      <th>4</th>\n",
       "      <td>80045922</td>\n",
       "      <td>Movie</td>\n",
       "      <td>6 Years</td>\n",
       "      <td>Hannah Fidell</td>\n",
       "      <td>Taissa Farmiga, Ben Rosenfield, Lindsay Burdge...</td>\n",
       "      <td>United States</td>\n",
       "      <td>September 8, 2015</td>\n",
       "      <td>2015</td>\n",
       "      <td>NR</td>\n",
       "      <td>80 min</td>\n",
       "      <td>dramas, independent movies, romantic movies</td>\n",
       "      <td>as a volatile young couple who have been toget...</td>\n",
       "      <td>[volatile, young, couple, year, approach, coll...</td>\n",
       "    </tr>\n",
       "  </tbody>\n",
       "</table>\n",
       "</div>"
      ],
      "text/plain": [
       "    show_id   type               title          director  \\\n",
       "0  80125979  Movie        #realityhigh  Fernando Lebrija   \n",
       "1  80060297  Movie   Manhattan Romance       Tom O'Brien   \n",
       "2  70304988  Movie  Stonehearst Asylum     Brad Anderson   \n",
       "3  80057700  Movie          The Runner      Austin Stark   \n",
       "4  80045922  Movie             6 Years     Hannah Fidell   \n",
       "\n",
       "                                                cast        country  \\\n",
       "0  Nesta Cooper, Kate Walsh, John Michael Higgins...  United States   \n",
       "1  Tom O'Brien, Katherine Waterston, Caitlin Fitz...  United States   \n",
       "2  Kate Beckinsale, Jim Sturgess, David Thewlis, ...  United States   \n",
       "3  Nicolas Cage, Sarah Paulson, Connie Nielsen, W...  United States   \n",
       "4  Taissa Farmiga, Ben Rosenfield, Lindsay Burdge...  United States   \n",
       "\n",
       "          date_added  release_year rating duration  \\\n",
       "0  September 8, 2017          2017  TV-14   99 min   \n",
       "1  September 8, 2017          2014  TV-14   98 min   \n",
       "2  September 8, 2017          2014  PG-13  113 min   \n",
       "3  September 8, 2017          2015      R   90 min   \n",
       "4  September 8, 2015          2015     NR   80 min   \n",
       "\n",
       "                                       listed_in  \\\n",
       "0                                       comedies   \n",
       "1  comedies, independent movies, romantic movies   \n",
       "2                       horror movies, thrillers   \n",
       "3                     dramas, independent movies   \n",
       "4    dramas, independent movies, romantic movies   \n",
       "\n",
       "                                         description  \\\n",
       "0  when nerdy high schooler dani finally attracts...   \n",
       "1  a filmmaker working on a documentary about lov...   \n",
       "2  in 1899, a young doctor arrives at an asylum f...   \n",
       "3  a new orleans politician finds his idealistic ...   \n",
       "4  as a volatile young couple who have been toget...   \n",
       "\n",
       "                                              tokens  \n",
       "0  [nerdy, high, schooler, dani, finally, attract...  \n",
       "1  [filmmaker, work, documentary, love, modern, m...  \n",
       "2  [1899, young, doctor, arrive, asylum, apprenti...  \n",
       "3  [new, orlean, politician, find, idealistic, pl...  \n",
       "4  [volatile, young, couple, year, approach, coll...  "
      ]
     },
     "execution_count": 30,
     "metadata": {},
     "output_type": "execute_result"
    }
   ],
   "source": [
    "df['tokens'] = tokens\n",
    "df.head()"
   ]
  },
  {
   "cell_type": "code",
   "execution_count": 31,
   "metadata": {},
   "outputs": [],
   "source": [
    "# Object from Base Python\n",
    "from collections import Counter\n",
    "\n",
    "# The object `Counter` takes an iterable, but you can instaniate an empty one and update it. \n",
    "word_counts = Counter()"
   ]
  },
  {
   "cell_type": "code",
   "execution_count": 32,
   "metadata": {},
   "outputs": [],
   "source": [
    "def count(docs):\n",
    "\n",
    "        word_counts = Counter()\n",
    "        appears_in = Counter()\n",
    "        \n",
    "        total_docs = len(docs)\n",
    "\n",
    "        for doc in docs:\n",
    "            word_counts.update(doc)\n",
    "            appears_in.update(set(doc))\n",
    "\n",
    "        temp = zip(word_counts.keys(), word_counts.values())\n",
    "        \n",
    "        wc = pd.DataFrame(temp, columns = ['word', 'count'])\n",
    "\n",
    "        wc['rank'] = wc['count'].rank(method='first', ascending=False)\n",
    "        total = wc['count'].sum()\n",
    "\n",
    "        wc['pct_total'] = wc['count'].apply(lambda x: x / total)\n",
    "        \n",
    "        wc = wc.sort_values(by='rank')\n",
    "        wc['cul_pct_total'] = wc['pct_total'].cumsum()\n",
    "\n",
    "        t2 = zip(appears_in.keys(), appears_in.values())\n",
    "        ac = pd.DataFrame(t2, columns=['word', 'appears_in'])\n",
    "        wc = ac.merge(wc, on='word')\n",
    "\n",
    "        wc['appears_in_pct'] = wc['appears_in'].apply(lambda x: x / total_docs)\n",
    "        \n",
    "        return wc.sort_values(by='rank')"
   ]
  },
  {
   "cell_type": "code",
   "execution_count": 33,
   "metadata": {},
   "outputs": [],
   "source": [
    "wc = count(df['tokens'])"
   ]
  },
  {
   "cell_type": "code",
   "execution_count": 34,
   "metadata": {},
   "outputs": [
    {
     "data": {
      "image/png": "[encoded data removed]",
      "text/plain": [
       "<Figure size 432x288 with 1 Axes>"
      ]
     },
     "metadata": {
      "needs_background": "light"
     },
     "output_type": "display_data"
    }
   ],
   "source": [
    "import squarify\n",
    "import matplotlib.pyplot as plt\n",
    "import seaborn as sns\n",
    "\n",
    "wc_top20 = wc[wc['rank'] <= 20]\n",
    "\n",
    "squarify.plot(sizes=wc_top20['pct_total'], label=wc_top20['word'], alpha=.8 )\n",
    "plt.axis('off')\n",
    "plt.show()"
   ]
  },
  {
   "cell_type": "markdown",
   "metadata": {},
   "source": [
    "Here I plotted the top 20 most frequent words in the corpus."
   ]
  },
  {
   "cell_type": "markdown",
   "metadata": {},
   "source": [
    "### Vectorize Tokens (TFIDF)"
   ]
  },
  {
   "cell_type": "markdown",
   "metadata": {},
   "source": [
    "Now that the new Movie descriptions are clean and tokenized in another column called 'tokens'. we are ready to vectorize. In my TF-IDF vectorizer, I included the following hyperparameters:\n",
    ">  n_gram_range=(1,2): Helps perserve the context of the movie description with 2 linked words\n",
    "\n",
    ">  max_df=0.97 and min_df=2: Helps trim down my vocab to words that appear in at most 97% and at least 2 of the documents\n",
    "\n",
    ">  max_features=1000: Best 3000 words/2-grams combinations"
   ]
  },
  {
   "cell_type": "code",
   "execution_count": 37,
   "metadata": {},
   "outputs": [
    {
     "data": {
      "text/html": [
       "<div>\n",
       "<style scoped>\n",
       "    .dataframe tbody tr th:only-of-type {\n",
       "        vertical-align: middle;\n",
       "    }\n",
       "\n",
       "    .dataframe tbody tr th {\n",
       "        vertical-align: top;\n",
       "    }\n",
       "\n",
       "    .dataframe thead th {\n",
       "        text-align: right;\n",
       "    }\n",
       "</style>\n",
       "<table border=\"1\" class=\"dataframe\">\n",
       "  <thead>\n",
       "    <tr style=\"text-align: right;\">\n",
       "      <th></th>\n",
       "      <th>000</th>\n",
       "      <th>000 year</th>\n",
       "      <th>10</th>\n",
       "      <th>10 year</th>\n",
       "      <th>100</th>\n",
       "      <th>11</th>\n",
       "      <th>11 year</th>\n",
       "      <th>12</th>\n",
       "      <th>12 year</th>\n",
       "      <th>13</th>\n",
       "      <th>...</th>\n",
       "      <th>youth</th>\n",
       "      <th>youtube</th>\n",
       "      <th>youtube sensation</th>\n",
       "      <th>yuppie</th>\n",
       "      <th>zach</th>\n",
       "      <th>zach galifianakis</th>\n",
       "      <th>zack</th>\n",
       "      <th>zion</th>\n",
       "      <th>zombie</th>\n",
       "      <th>zone</th>\n",
       "    </tr>\n",
       "  </thead>\n",
       "  <tbody>\n",
       "    <tr>\n",
       "      <th>0</th>\n",
       "      <td>0.0</td>\n",
       "      <td>0.0</td>\n",
       "      <td>0.0</td>\n",
       "      <td>0.0</td>\n",
       "      <td>0.0</td>\n",
       "      <td>0.0</td>\n",
       "      <td>0.0</td>\n",
       "      <td>0.0</td>\n",
       "      <td>0.0</td>\n",
       "      <td>0.0</td>\n",
       "      <td>...</td>\n",
       "      <td>0.0</td>\n",
       "      <td>0.0</td>\n",
       "      <td>0.0</td>\n",
       "      <td>0.0</td>\n",
       "      <td>0.0</td>\n",
       "      <td>0.0</td>\n",
       "      <td>0.0</td>\n",
       "      <td>0.0</td>\n",
       "      <td>0.0</td>\n",
       "      <td>0.0</td>\n",
       "    </tr>\n",
       "    <tr>\n",
       "      <th>1</th>\n",
       "      <td>0.0</td>\n",
       "      <td>0.0</td>\n",
       "      <td>0.0</td>\n",
       "      <td>0.0</td>\n",
       "      <td>0.0</td>\n",
       "      <td>0.0</td>\n",
       "      <td>0.0</td>\n",
       "      <td>0.0</td>\n",
       "      <td>0.0</td>\n",
       "      <td>0.0</td>\n",
       "      <td>...</td>\n",
       "      <td>0.0</td>\n",
       "      <td>0.0</td>\n",
       "      <td>0.0</td>\n",
       "      <td>0.0</td>\n",
       "      <td>0.0</td>\n",
       "      <td>0.0</td>\n",
       "      <td>0.0</td>\n",
       "      <td>0.0</td>\n",
       "      <td>0.0</td>\n",
       "      <td>0.0</td>\n",
       "    </tr>\n",
       "    <tr>\n",
       "      <th>2</th>\n",
       "      <td>0.0</td>\n",
       "      <td>0.0</td>\n",
       "      <td>0.0</td>\n",
       "      <td>0.0</td>\n",
       "      <td>0.0</td>\n",
       "      <td>0.0</td>\n",
       "      <td>0.0</td>\n",
       "      <td>0.0</td>\n",
       "      <td>0.0</td>\n",
       "      <td>0.0</td>\n",
       "      <td>...</td>\n",
       "      <td>0.0</td>\n",
       "      <td>0.0</td>\n",
       "      <td>0.0</td>\n",
       "      <td>0.0</td>\n",
       "      <td>0.0</td>\n",
       "      <td>0.0</td>\n",
       "      <td>0.0</td>\n",
       "      <td>0.0</td>\n",
       "      <td>0.0</td>\n",
       "      <td>0.0</td>\n",
       "    </tr>\n",
       "    <tr>\n",
       "      <th>3</th>\n",
       "      <td>0.0</td>\n",
       "      <td>0.0</td>\n",
       "      <td>0.0</td>\n",
       "      <td>0.0</td>\n",
       "      <td>0.0</td>\n",
       "      <td>0.0</td>\n",
       "      <td>0.0</td>\n",
       "      <td>0.0</td>\n",
       "      <td>0.0</td>\n",
       "      <td>0.0</td>\n",
       "      <td>...</td>\n",
       "      <td>0.0</td>\n",
       "      <td>0.0</td>\n",
       "      <td>0.0</td>\n",
       "      <td>0.0</td>\n",
       "      <td>0.0</td>\n",
       "      <td>0.0</td>\n",
       "      <td>0.0</td>\n",
       "      <td>0.0</td>\n",
       "      <td>0.0</td>\n",
       "      <td>0.0</td>\n",
       "    </tr>\n",
       "    <tr>\n",
       "      <th>4</th>\n",
       "      <td>0.0</td>\n",
       "      <td>0.0</td>\n",
       "      <td>0.0</td>\n",
       "      <td>0.0</td>\n",
       "      <td>0.0</td>\n",
       "      <td>0.0</td>\n",
       "      <td>0.0</td>\n",
       "      <td>0.0</td>\n",
       "      <td>0.0</td>\n",
       "      <td>0.0</td>\n",
       "      <td>...</td>\n",
       "      <td>0.0</td>\n",
       "      <td>0.0</td>\n",
       "      <td>0.0</td>\n",
       "      <td>0.0</td>\n",
       "      <td>0.0</td>\n",
       "      <td>0.0</td>\n",
       "      <td>0.0</td>\n",
       "      <td>0.0</td>\n",
       "      <td>0.0</td>\n",
       "      <td>0.0</td>\n",
       "    </tr>\n",
       "  </tbody>\n",
       "</table>\n",
       "<p>5 rows × 3000 columns</p>\n",
       "</div>"
      ],
      "text/plain": [
       "   000  000 year   10  10 year  100   11  11 year   12  12 year   13  ...  \\\n",
       "0  0.0       0.0  0.0      0.0  0.0  0.0      0.0  0.0      0.0  0.0  ...   \n",
       "1  0.0       0.0  0.0      0.0  0.0  0.0      0.0  0.0      0.0  0.0  ...   \n",
       "2  0.0       0.0  0.0      0.0  0.0  0.0      0.0  0.0      0.0  0.0  ...   \n",
       "3  0.0       0.0  0.0      0.0  0.0  0.0      0.0  0.0      0.0  0.0  ...   \n",
       "4  0.0       0.0  0.0      0.0  0.0  0.0      0.0  0.0      0.0  0.0  ...   \n",
       "\n",
       "   youth  youtube  youtube sensation  yuppie  zach  zach galifianakis  zack  \\\n",
       "0    0.0      0.0                0.0     0.0   0.0                0.0   0.0   \n",
       "1    0.0      0.0                0.0     0.0   0.0                0.0   0.0   \n",
       "2    0.0      0.0                0.0     0.0   0.0                0.0   0.0   \n",
       "3    0.0      0.0                0.0     0.0   0.0                0.0   0.0   \n",
       "4    0.0      0.0                0.0     0.0   0.0                0.0   0.0   \n",
       "\n",
       "   zion  zombie  zone  \n",
       "0   0.0     0.0   0.0  \n",
       "1   0.0     0.0   0.0  \n",
       "2   0.0     0.0   0.0  \n",
       "3   0.0     0.0   0.0  \n",
       "4   0.0     0.0   0.0  \n",
       "\n",
       "[5 rows x 3000 columns]"
      ]
     },
     "execution_count": 37,
     "metadata": {},
     "output_type": "execute_result"
    }
   ],
   "source": [
    "from sklearn.feature_extraction.text import TfidfVectorizer\n",
    "\n",
    "tfidf = TfidfVectorizer(ngram_range=(1,2),\n",
    "                      max_df=0.97,\n",
    "                      min_df=2,\n",
    "                      max_features = 3000)\n",
    "\n",
    "description = df['tokens'].astype(str)\n",
    "\n",
    "dtm = tfidf.fit_transform(description)\n",
    "\n",
    "dtm = pd.DataFrame(dtm.todense(), columns=tfidf.get_feature_names())\n",
    "\n",
    "dtm.head()"
   ]
  },
  {
   "cell_type": "markdown",
   "metadata": {},
   "source": [
    "### K-NearestNeighbor"
   ]
  },
  {
   "cell_type": "code",
   "execution_count": 38,
   "metadata": {},
   "outputs": [
    {
     "data": {
      "text/plain": [
       "NearestNeighbors(algorithm='kd_tree', leaf_size=30, metric='minkowski',\n",
       "                 metric_params=None, n_jobs=None, n_neighbors=5, p=2,\n",
       "                 radius=1.0)"
      ]
     },
     "execution_count": 38,
     "metadata": {},
     "output_type": "execute_result"
    }
   ],
   "source": [
    "from sklearn.neighbors import NearestNeighbors\n",
    "\n",
    "nn = NearestNeighbors(n_neighbors=5, algorithm='kd_tree')\n",
    "nn.fit(dtm)"
   ]
  },
  {
   "cell_type": "code",
   "execution_count": 39,
   "metadata": {},
   "outputs": [
    {
     "data": {
      "text/plain": [
       "(array([[0.        , 1.23238215, 1.23627091, 1.24601841, 1.26335832]]),\n",
       " array([[   0,  751, 1150,  899,  883]]))"
      ]
     },
     "execution_count": 39,
     "metadata": {},
     "output_type": "execute_result"
    }
   ],
   "source": [
    "nn.kneighbors([dtm.iloc[0].values])"
   ]
  },
  {
   "cell_type": "code",
   "execution_count": 40,
   "metadata": {},
   "outputs": [
    {
     "data": {
      "text/plain": [
       "(array([[0.        , 1.23238215, 1.23627091, 1.24601841, 1.26335832]]),\n",
       " array([[   0,  751, 1150,  899,  883]]))"
      ]
     },
     "execution_count": 40,
     "metadata": {},
     "output_type": "execute_result"
    }
   ],
   "source": [
    "nn.kneighbors([dtm.iloc[0]])"
   ]
  },
  {
   "cell_type": "markdown",
   "metadata": {},
   "source": [
    "### Query Movie Recommender"
   ]
  },
  {
   "cell_type": "code",
   "execution_count": 53,
   "metadata": {},
   "outputs": [],
   "source": [
    "movie = [\"Four teenagers are sucked into a magical video game, and the only way they can escape is to work together to finish the game.\"]"
   ]
  },
  {
   "cell_type": "code",
   "execution_count": 54,
   "metadata": {},
   "outputs": [],
   "source": [
    "new = tfidf.transform(movie)"
   ]
  },
  {
   "cell_type": "code",
   "execution_count": 55,
   "metadata": {},
   "outputs": [
    {
     "data": {
      "text/plain": [
       "<1x3000 sparse matrix of type '<class 'numpy.float64'>'\n",
       "\twith 8 stored elements in Compressed Sparse Row format>"
      ]
     },
     "execution_count": 55,
     "metadata": {},
     "output_type": "execute_result"
    }
   ],
   "source": [
    "new"
   ]
  },
  {
   "cell_type": "code",
   "execution_count": 56,
   "metadata": {},
   "outputs": [
    {
     "data": {
      "text/plain": [
       "(array([[1.06911197, 1.16598473, 1.19431197, 1.20707636, 1.22899886]]),\n",
       " array([[ 704,  238, 1425, 1186, 1454]]))"
      ]
     },
     "execution_count": 56,
     "metadata": {},
     "output_type": "execute_result"
    }
   ],
   "source": [
    "nn.kneighbors(new.todense())"
   ]
  },
  {
   "cell_type": "code",
   "execution_count": 57,
   "metadata": {},
   "outputs": [
    {
     "data": {
      "text/plain": [
       "[704, 238, 1425, 1186, 1454]"
      ]
     },
     "execution_count": 57,
     "metadata": {},
     "output_type": "execute_result"
    }
   ],
   "source": [
    "recommendations = nn.kneighbors(new.todense())[1].tolist()[0]\n",
    "recommendations"
   ]
  },
  {
   "cell_type": "code",
   "execution_count": 61,
   "metadata": {},
   "outputs": [
    {
     "data": {
      "text/html": [
       "<div>\n",
       "<style scoped>\n",
       "    .dataframe tbody tr th:only-of-type {\n",
       "        vertical-align: middle;\n",
       "    }\n",
       "\n",
       "    .dataframe tbody tr th {\n",
       "        vertical-align: top;\n",
       "    }\n",
       "\n",
       "    .dataframe thead th {\n",
       "        text-align: right;\n",
       "    }\n",
       "</style>\n",
       "<table border=\"1\" class=\"dataframe\">\n",
       "  <thead>\n",
       "    <tr style=\"text-align: right;\">\n",
       "      <th></th>\n",
       "      <th>type</th>\n",
       "      <th>title</th>\n",
       "      <th>cast</th>\n",
       "      <th>listed_in</th>\n",
       "      <th>description</th>\n",
       "    </tr>\n",
       "  </thead>\n",
       "  <tbody>\n",
       "    <tr>\n",
       "      <th>704</th>\n",
       "      <td>Movie</td>\n",
       "      <td>Ralph Breaks the Internet: Wreck-It Ralph 2</td>\n",
       "      <td>John C. Reilly, Sarah Silverman, Taraji P. Hen...</td>\n",
       "      <td>children &amp; family movies, comedies</td>\n",
       "      <td>when video-game bad guy ralph and best friend ...</td>\n",
       "    </tr>\n",
       "    <tr>\n",
       "      <th>238</th>\n",
       "      <td>Movie</td>\n",
       "      <td>Barbie: Video Game Hero</td>\n",
       "      <td>Erica Lindbeck, Sienna Bohn, Shannon Chan-Kent...</td>\n",
       "      <td>children &amp; family movies</td>\n",
       "      <td>pulled into her favorite video game, barbie be...</td>\n",
       "    </tr>\n",
       "    <tr>\n",
       "      <th>1425</th>\n",
       "      <td>Movie</td>\n",
       "      <td>Bigger Fatter Liar</td>\n",
       "      <td>Ricky Garcia, Jodelle Ferland, Barry Bostwick,...</td>\n",
       "      <td>children &amp; family movies, comedies</td>\n",
       "      <td>when his video game concept is stolen by a dis...</td>\n",
       "    </tr>\n",
       "    <tr>\n",
       "      <th>1186</th>\n",
       "      <td>Movie</td>\n",
       "      <td>Black Mirror: Bandersnatch</td>\n",
       "      <td>Fionn Whitehead, Will Poulter, Craig Parkinson...</td>\n",
       "      <td>dramas, international movies, sci-fi &amp; fantasy</td>\n",
       "      <td>in 1984, a young programmer begins to question...</td>\n",
       "    </tr>\n",
       "    <tr>\n",
       "      <th>1454</th>\n",
       "      <td>Movie</td>\n",
       "      <td>Spy Kids 3: Game Over</td>\n",
       "      <td>Daryl Sabara, Sylvester Stallone, Ricardo Mont...</td>\n",
       "      <td>children &amp; family movies, comedies</td>\n",
       "      <td>carmen gets caught in a virtual reality game d...</td>\n",
       "    </tr>\n",
       "  </tbody>\n",
       "</table>\n",
       "</div>"
      ],
      "text/plain": [
       "       type                                        title  \\\n",
       "704   Movie  Ralph Breaks the Internet: Wreck-It Ralph 2   \n",
       "238   Movie                      Barbie: Video Game Hero   \n",
       "1425  Movie                           Bigger Fatter Liar   \n",
       "1186  Movie                   Black Mirror: Bandersnatch   \n",
       "1454  Movie                        Spy Kids 3: Game Over   \n",
       "\n",
       "                                                   cast  \\\n",
       "704   John C. Reilly, Sarah Silverman, Taraji P. Hen...   \n",
       "238   Erica Lindbeck, Sienna Bohn, Shannon Chan-Kent...   \n",
       "1425  Ricky Garcia, Jodelle Ferland, Barry Bostwick,...   \n",
       "1186  Fionn Whitehead, Will Poulter, Craig Parkinson...   \n",
       "1454  Daryl Sabara, Sylvester Stallone, Ricardo Mont...   \n",
       "\n",
       "                                           listed_in  \\\n",
       "704               children & family movies, comedies   \n",
       "238                         children & family movies   \n",
       "1425              children & family movies, comedies   \n",
       "1186  dramas, international movies, sci-fi & fantasy   \n",
       "1454              children & family movies, comedies   \n",
       "\n",
       "                                            description  \n",
       "704   when video-game bad guy ralph and best friend ...  \n",
       "238   pulled into her favorite video game, barbie be...  \n",
       "1425  when his video game concept is stolen by a dis...  \n",
       "1186  in 1984, a young programmer begins to question...  \n",
       "1454  carmen gets caught in a virtual reality game d...  "
      ]
     },
     "execution_count": 61,
     "metadata": {},
     "output_type": "execute_result"
    }
   ],
   "source": [
    "df[['type','title','cast','listed_in','description']].iloc[recommendations]"
   ]
  },
  {
   "cell_type": "markdown",
   "metadata": {},
   "source": [
    "### Export model"
   ]
  },
  {
   "cell_type": "code",
   "execution_count": 32,
   "metadata": {},
   "outputs": [],
   "source": [
    "import pickle\n",
    "\n",
    "filename = 'vect_01.pkl'\n",
    "pickle.dump(tfidf, open(filename, 'wb'))\n",
    "\n",
    "filename = 'knn_01.pkl'\n",
    "pickle.dump(nn, open(filename, 'wb'))"
   ]
  }
 ],
 "metadata": {
  "kernelspec": {
   "display_name": "Python 3",
   "language": "python",
   "name": "python3"
  },
  "language_info": {
   "codemirror_mode": {
    "name": "ipython",
    "version": 3
   },
   "file_extension": ".py",
   "mimetype": "text/x-python",
   "name": "python",
   "nbconvert_exporter": "python",
   "pygments_lexer": "ipython3",
   "version": "3.7.6"
  }
 },
 "nbformat": 4,
 "nbformat_minor": 4
}
